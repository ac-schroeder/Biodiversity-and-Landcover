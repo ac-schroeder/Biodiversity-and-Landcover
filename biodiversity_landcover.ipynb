{
 "cells": [
  {
   "cell_type": "markdown",
   "id": "a204078a",
   "metadata": {},
   "source": [
    "# <center>Biodiversity and Land Cover</center>\n",
    "#### <center>by Alana Schroeder</center>\n"
   ]
  },
  {
   "cell_type": "markdown",
   "id": "035a3feb",
   "metadata": {},
   "source": [
    "# Introduction <a id='Introduction'></a>\n",
    "\n",
    "Biodiversity loss is one of the most urgent issues the planet is facing. It has been proposed that our planet should dedicate approximately half of its land area to remain wild, in order for the ecosystem of the world to survive.[[1]], [[2]] A deterioration in biodiversity will have knock-on effects on all aspects of life for humans, from weather patterns, to desertification and erosion, to the health of crops and pollinators, to fish stocks, further global warming, and more.[[3]]\n",
    "\n",
    "The relationship between expanding human development and the pressures on wildlife is undergoing rapid research and study. It is widely understood that reduction of areas for natural ecosystems exerts pressures on species populations and is one of the leading causes of their decline.[[4]] Data is being gathered on species counts, and attempts to quantify human expansion and impact are underway.[[5]] One measure of this is land cover, which is based on satellite imaging. It is used to calculate the ratios of countries' area that are natural, such as wetland and forest, and which are human-developed, such as cropland and urban surfaces.\n",
    "\n",
    "This report will investigate whether existing data on species counts and land cover ratios show any clear correlation between the health of a country's wildlife, and its reservation of natural land which is not developed by humans. It will look at several statistical measures of species endangerment, as well as natural and non-natural land cover ratios and designation of protected land, among a sample set of countries, to see if any patterns are evident.\n",
    "\n",
    "[1]: https://www.science.org/doi/10.1126/science.aau1397 \"Science\" \n",
    "[2]: https://www.newscientist.com/article/2179499-half-the-planet-should-be-set-aside-for-wildlife-to-save-ourselves/ \"The New Scientist\" \n",
    "[3]: https://www.oecd-ilibrary.org/sites/34988850-en/index.html?itemId=/content/component/34988850-en#wrapper \"OECD Library - Biodiversity: Finance and the Economic and Business Case for Action\"\n",
    "[4]: https://www.unep-wcmc.org/en/news/predicting-the-impact-of-land-use-change-on-biodiversity \"UNEP WCMC\" \n",
    "[5]: https://theconversation.com/just-3-of-earths-land-ecosystems-remain-intact-but-we-can-change-that-158587 \"The Conversation\" \n",
    "\n",
    "\n",
    "## Project Aims\n",
    "\n",
    "As the topic is very large, this project will focus on four statistics and their relationship to one another. These statistics are:\n",
    "\n",
    "- the percentage of threatened species in a country\n",
    "- the Red List Index for a country\n",
    "- the land cover class ratios of a country\n",
    "- the percentage cover of protected land of a country\n",
    "\n",
    "This project will take an exploratory approach towards the datasets containing these statistics. It will consider the same sample set of countries for each one. It will explore and create visualisations for them, showing the ranges of values and how the different countries perform, before looking at the relationships between the statistics to see if any patterns or correlations exist. \n",
    "\n",
    "After Exploratory Data Analysis, the specific research questions this report seeks to address are: \n",
    "\n",
    "> **Q1: Do the countries with the highest percentages of threatened species have the least percentage of natural land cover?**\n",
    ">\n",
    "> **Q2: Is there any relationship between growth of human developed land and rise in species endangerment rates over recent decades?**\n",
    ">\n",
    "> **Q3: And, if such a correlation cannot be determined, is designation of protected areas within a country a better indicator for improved species endangerment rates?**\n",
    "\n",
    "\n",
    "\n",
    "## The Datasets\n",
    "\n",
    "This project will utilise several datasets which have been collected by the [Organisation for Economic Co-operation and Development (OECD)](https://www.oecd.org/about/) and the [International Union for Conservation of Nature (IUCN)](https://www.iucn.org/about). These datasets are in the form of CSV files, which will need to be read and processed.\n",
    "\n",
    "The IUCN assesses and categorizes risk bands for species, which are Least Concern, Vulnerable, Endangered, Critically Endangered, and Extinct. The IUCN also maintains the [Red List](https://www.iucnredlist.org/about/background-history), which is a list of globally threatened species, and the [Red List Index](https://www.iucnredlist.org/assessment/red-list-index), a score applied to countries and the world which measures changes from year to year in the weighted, aggregated status of the species of the region.[[6]]\n",
    "\n",
    "The OECD collects data from nations, the UN, and NGOs on a variety of economic issues. It also has an extensive collection of datasets on environmental issues. It maintains a large online statistical database, https://stats.oecd.org/. \n",
    "\n",
    "This project will use the following datasets:\n",
    "\n",
    "- [Threatened Species](https://stats.oecd.org/Index.aspx?DataSetCode=WILD_LIFE) (OECD): A dataset of threatened species numbers from the latest year's responses from countries in response to the OECD's Annual Quality Assurance of OECD environmental reference series, harmonised by the OECD Working Party on Environmental Information (WPEI). Countries supply their own numbers of counts of threatened species in various IUCN categories, although they may also supply their own national classifications, or even IUCN Red List data.\n",
    "\n",
    "- [Red List Index](https://stats.oecd.org/Index.aspx?DataSetCode=RED_LIST) (OECD from UNDESA, IUCN): A measure of the change in aggregate extinction risk across species for each country, extracted from the UNDESA database. The Red List Index is compiled and assessed at the global level by the IUCN and Bird Life International.\n",
    "\n",
    "- [Land Cover](https://stats.oecd.org/Index.aspx?DataSetCode=LAND_COVER) (OECD from ESA): A breakdown of percentages and square kilometers of countries by land cover class, such as tree cover or cropland. Data is sourced by the OECD from satellite imagery collected and processed by Copernicus/European Space Agency and Université catholique de Louvain [Geomatics Climate Change Initiative](https://cds.climate.copernicus.eu/cdsapp#!/dataset/satellite-land-cover)\n",
    "\n",
    "- [Protected Areas](https://stats.oecd.org/Index.aspx?DataSetCode=PROTECTED_AREAS) (OECD from UNEP-WCMC, IUCN): A dataset of percentage of total country area that is designated protected land on the national level. Calculated from the [World Database on Protected Areas](https://www.iucn.org/theme/protected-areas/our-work/world-database-protected-areas), a joint project between the United Nations Environment Programme World Conservation Monitoring Centre (UNEP-WCMC) and the IUCN. \n",
    "\n",
    "### Applications of the Datasets\n",
    "\n",
    "Both the Threatened Species dataset and the Red List Index dataset measure rates of species endangerment. They are both included in this study because they are gathered and calculated in different ways, and thus can be used to supplement and verify one another. Additionally, only the Red List Index contains historical data, which can be used to look at trends in countries over the last two decades.\n",
    "\n",
    "The Land Cover and Protected Areas datasets are two very different approaches to measuring human land use and what proportions of a country's land mass may potentially be wild. Land cover is considered by the OECD to be a useful metric for assessing pressures on wildlife.[[7]] Both have caveats, in that neither measure truly guarantees that land labeled as \"natural\" or \"protected\" is intact wild land, unhindered by humans. These caveats will be explored further throughout this report. However, the datasets are valuable data for gaining insight into the pressures on biodiversity. \n",
    "\n",
    "\n",
    "[6]: http://datazone.birdlife.org/species/spcrli \"Birdlife International - Red List Index Methodology\"\n",
    "[7]: https://stats.oecd.org/Index.aspx?DataSetCode=LAND_COVER \"OECD Land Cover Dataset Notes\"\n",
    "\n",
    "\n",
    "## Project Background and Approach\n",
    " \n",
    "### Project Scope\n",
    "\n",
    "Because of the limited nature of this project, it is beyond its scope to do a thorough scientific investigation of the issues being explored, or draw any scientifically sound conclusions. The main aim of this project is to conduct Exploratory Data Analysis and to implement Python and its libraries to visualise data in meaningful ways, with some insights drawn. \n",
    "\n",
    "This project will examine the identified statistics in the above datasets over a sample set of countries, and make a few simple comparison plots between them with the sample set, to check for patterns. Use of the full population data, investigation of outliers, or investigation of follow-up questions will be beyond the scope of this project.\n",
    "\n",
    "However, a possible direction of further research is included at the end of this report.\n",
    "\n",
    "### The Sample Set\n",
    "\n",
    "This project will use a limited number of countries as a sample set across all datasets and sections of this report. The sample set used will be gleaned from the smallest of the datasets being used, which is the Threatened Species database. This set will be used for two reasons:\n",
    "\n",
    "1. As it is the set of countries in the Threatened Species database, all statistics in this study can therefore be included for all the countries in the study.\n",
    "2. By using a sample set of countries rather than a very large set or all countries, it is possible to identify and keep track of individual countries throughout, while maintaining the ability to create meaningful visualisations that are not overly crowded. \n",
    "\n",
    "Because the subject matter deals with a genuinely critical global issue, and geography and politics have massive influence over the situation in each country, this project opts to maintain the ability to identify which data belongs to which country (in other words, no anonymisation), as it enables further research and investigation into the factors that might cause unique circumstances in each country, particularly where outliers or other interesting findings are discovered.\n",
    "\n",
    "However, meaningful visualisations for large sample sets become difficult, as too many records become difficult to plot against a legend or key, and still remain readable. The sample set here is 37 countries. It is already quite large, so visualisations will need to be chosen with care. This project will use lattice grids, aggregations of data, and carefully drawn bar plots in order to make the data visualisations readable. If the sample set were much larger, even this would become impossible, and the data would need to be anonymised.\n",
    "\n",
    "\n",
    "### Project Process and Outline\n",
    "\n",
    "The project will take the following structural approach:\n",
    "\n",
    "***I. [Introduction to the Project](#Introduction)***\n",
    "    \n",
    "Here the project aims and background are explained, the datasets are introduced, and any anticipated limitations are laid out. There is also a discussion of any ethical concerns or issues with the data or conclusions of this project. \n",
    "    \n",
    "***II. [Exploratory Data Analysis of each Dataset](#EDA)***\n",
    "\n",
    "All four datasets are given an Exploratory Data Analysis. Each dataset is individually introduced, its limitations evaluated, and applications to the research explained. The data is then refined to the sample set and the relevant statistics before being explored. In exploration, it is checked for completeness of records and that values are within expected ranges. The data is then restructured so that it can be used to produce visualisations that demonstrate the focused statistic comparatively between countries. Any needed aggregations are calculated, and then the data is visualised in one or more plots or lattice plots, to give an overview of the relevant statistic across the sample set.\n",
    "    \n",
    "***III. [Analysis of Research Questions](#Research-Analysis)***\n",
    "\n",
    "The research questions are reviewed and examined one by one. The datasets are merged together into new dataframes in order to produce plots that show the statistics comparatively against each other, typically in scatterplots, in order to answer the research questions. Patterns or correlations in the data are identified. Each question is concluded with observations and discussion of limitations.\n",
    "    \n",
    "***IV. [Conclusion and Critical Evaluation](#Conclusions)***\n",
    "\n",
    "This includes a final assessment of the results of the study, along with discussion of the merits of the study and any flaws in its premise, usage of the data, or choices made in the study approach.\n",
    "    \n",
    "\n",
    "### Evaluation of Project Aims\n",
    "\n",
    "The research questions are open questions as to whether correlations or patterns in the data exist. Data visualisations that plot the relevant statistics against each other, such as scatterplots, will be used, and then assessed for evidence of correlation or pattern, such as clustering, particularly along a line that would indicate either positive or negative correlation.\n",
    "\n",
    "The study employs multiple datasets for each type of statistic (species endangerment, land cover), and these can be used to cross-check and verify one another.\n",
    "\n",
    "The resulting observations will be followed by a discussion of the limitations of the data and the method of their comparison, to qualify any observed patterns, or lack thereof.\n",
    "\n",
    "\n",
    "\n",
    "## Limitations of the Study  \n",
    "\n",
    "The datasets have a number of limitations which are discussed in detail in their respective sections of Exploratory Data Analysis. For instance, some statistics have problems with completeness of data collection, or consistency between countries in data collection method. These are detailed in their respective sections, and in at least one case they have led to preference for one dataset over another. \n",
    "\n",
    "There are, however, additionally some anticipated limitations on the application of the data to the research questions, which should serve as caveats to any results of this study:\n",
    "\n",
    "***The pressures on wildlife populations are complex and not limited to expanding cropland and urban areas.***\n",
    "\n",
    "There are many factors that may cause dwindling species populations, such as climate change, plastic and chemical pollution, agricultural runoff, pesticides, erosion, hunting and poaching, spread of invasive species, and light and noise pollution, to name a few. Any and all of these may affect a nation's rate of endangered species, in addition to land cover issues.\n",
    "\n",
    "***The data only captures recent changes.***\n",
    "\n",
    "Some countries in the study may have very high proprotions of cropland, but if the land has had that cover ratio for hundreds of years, the ecosystem in the region may currently have balance, and counts of threatened species may be relatively low. However, this fact could be masking the real impact of high human land cover, as the harmful effects may have played out centuries ago.\n",
    "\n",
    "This might possibly cause some countries with high cropland cover to score better on species endangerment than countries who are in current process of heavy deforestation and conversion to cropland, but it does not mean that these countries have manged to sustain these high cropland proportions with no cost.\n",
    "\n",
    "***Counts of threatened species do not serve as a proxy for ecosystem health generally.***\n",
    "\n",
    "There are other metrics of the health of biodiversity and wildlife besides species endangerment rates. For instance, endangerment rates do not capture dwindling populations of species considered to be in the \"Least Concern\" category. Nor does it capture adaptations or migrations. \n",
    "\n",
    "\n",
    "## Ethical Considerations\n",
    "\n",
    "### Licensing and Use Restrictions of the Data\n",
    "\n",
    "All four datasets are available for public use with attribution. \n",
    "\n",
    "- Threatened Species - OECD: The OECD encourages public use of its own datasets, even for commercial use. [OECD Terms and Conditions](https://www.oecd.org/termsandconditions/)\n",
    "\n",
    "- Red List Index - IUCN through UNDESA, OECD: The IUCN requires written permission for publication, redistribution, or other commercial uses of its work, but grants a free license to use for research or educational purposes. [IUCN Terms and Conditions](https://www.iucnredlist.org/terms/terms-of-use). \n",
    "\n",
    "- Land Cover - OECD and Copernicus/ESA: The ESA and Copernicus, like the OECD, grant free and open license to the public to use their work for any purpose, given attribution. [ESA and Copernicus Terms and Conditions](https://cds.climate.copernicus.eu/cdsapp#!/dataset/satellite-land-cover?tab=overview)\n",
    "\n",
    "- Protected Areas - OECD and WDPA: The WDPA specifies restrictions on published and commercial work, but otherwise simply requires attribution. [WDPA Terms and Conditions](https://www.protectedplanet.net/en/legal)\n",
    "\n",
    "\n",
    "### Traceability and Anonymity\n",
    "\n",
    "The data is gathered by government organisations and NGOs, with well-documented processes. In this project, the OECD-supplied CSV files are read and samples of their contents shown before modifications. All modifications are explained and kept to their respective sections. Outputs of the dataframes are frequently used to expose the underlying data.\n",
    "\n",
    "The data is not anonymised, but as it deals with nations rather than individuals, this does not violate individual privacy considerations.\n",
    "\n",
    "\n",
    "### Potential Biases of the Data\n",
    "\n",
    "The Threatened Species dataset contains some potential bias, because it focuses on OECD countries, with several BRIICS countries included. This makes the dataset largely Europe-centric. The result of this is that there could potentially be a skew that masks useful global correlations in the statistics. This study endeavours to be very explicit about the consequences of this and to highlight the limitations throughout various points in the analysis, as well as the conclusion.\n",
    "\n",
    " \n",
    "### Ethical Nature of the Data and its Analysis\n",
    "\n",
    "This project aims to use the data to gain insights into a critical world problem. These datasets are used globally by researchers and policy makers to attempt to improve knowledge and gain insight into how to address the problem better. \n",
    "\n",
    "If analysis of these datasets were used to oversimplify or dismiss the problem, or to absolve certain countries of responsibility, this would likely be an ethical failing. However, proper treatment of the complexity of the situation and further research should lead to helpful gains in understanding, which is of benefit.\n",
    "\n",
    "\n",
    "### Considerations of Reusage of the Data\n",
    "\n",
    "The data in the project has not been collected independently as part of the project, and therefore no considerations need be given to its reuse. It is already publicly available and widely used.\n",
    "\n",
    "\n",
    "---\n",
    "\n",
    "## Python Libraries\n",
    "\n",
    "The project will use **Pandas** on top of **Numpy** to process the dataset CSV files into dataframe objects, and will make heavy use it to restructure, aggregate, and combine records and statistics for visualisations.\n",
    "\n",
    "Visualisations will be perfomed with **Seaborn** and **Matplotlib**. \n",
    "\n"
   ]
  },
  {
   "cell_type": "code",
   "execution_count": null,
   "id": "c1f482c7",
   "metadata": {},
   "outputs": [],
   "source": [
    "# Import the libraries\n",
    "import numpy as np\n",
    "import pandas as pd\n",
    "import matplotlib.pyplot as plt\n",
    "import seaborn as sns"
   ]
  },
  {
   "cell_type": "markdown",
   "id": "aef36004",
   "metadata": {},
   "source": [
    "---\n",
    "\n",
    "# Exploratory Data Analysis <a id=\"EDA\"></a>"
   ]
  },
  {
   "cell_type": "markdown",
   "id": "01a9126c",
   "metadata": {},
   "source": [
    "## Setting Up the Sample Set\n",
    "\n",
    "Before the datasets are explored, the set of countries to use throughout the project must be created. A list needs to be made that will serve as a filter on all datasets throughout.\n",
    "\n",
    "To form the list, the set of countries that make up the smallest of this project's datasets, the Threatened Species dataset, makes a natural choice for a country sample set. "
   ]
  },
  {
   "cell_type": "code",
   "execution_count": null,
   "id": "9a05003f",
   "metadata": {
    "scrolled": true
   },
   "outputs": [],
   "source": [
    "# Read in the threatened species data to use as the base list of countries\n",
    "# This is not the dataframe that will be used for EDA, so name it something relevant to the countries\n",
    "base_countries_df = pd.read_csv('Data/threatened_species.csv')\n",
    "\n",
    "# Read the columns and relevant values to understand the data structure\n",
    "print(base_countries_df.columns)\n",
    "print(base_countries_df['COU'].unique())\n",
    "print(base_countries_df['Country'].unique())"
   ]
  },
  {
   "cell_type": "markdown",
   "id": "1c93a279",
   "metadata": {},
   "source": [
    "The column 'COU' stores the ISO 3166 Alpha-3 codes of countries, whereas the 'Country' column stores the full country name. Both series will prove useful throughout this study, so two lists should be made, one for country codes, and one for country names. The codes can be in a numpy array, but the names need to be in a raw Python list, for use in Seaborn functions later on.\n",
    "\n",
    "Before using all the countries in this dataset, however, it should be verified that each included country contains records of the type that will later be examined in the Threatened Species dataset. Only those with full records should be included."
   ]
  },
  {
   "cell_type": "code",
   "execution_count": null,
   "id": "7ee3e857",
   "metadata": {},
   "outputs": [],
   "source": [
    "# Create the list of country codes from all countries in the dataset\n",
    "country_codes = base_countries_df['COU'].unique()\n",
    "country_codes = np.sort(country_codes)\n",
    "print(len(country_codes))\n",
    "country_codes"
   ]
  },
  {
   "cell_type": "code",
   "execution_count": null,
   "id": "67df82ea",
   "metadata": {},
   "outputs": [],
   "source": [
    "# Check that these countries have full data in the threatened species dataset, a baseline dataset for this project\n",
    "# Records for THREATENED, THREAT_PERCENT, and TOT_KNOWN should exist\n",
    "exists = []\n",
    "for c in country_codes:\n",
    "    if ((((base_countries_df['COU'] == c) & (base_countries_df['IUCN'] == 'THREATENED')).any()) &\n",
    "        (((base_countries_df['COU'] == c) & (base_countries_df['IUCN'] == 'THREAT_PERCENT')).any()) &\n",
    "        (((base_countries_df['COU'] == c) & (base_countries_df['IUCN'] == 'TOT_KNOWN')).any())):\n",
    "            exists.append(c)\n",
    "\n",
    "# Update the country_codes array to the smaller set           \n",
    "country_codes = np.array(exists)\n",
    "print(len(country_codes))\n",
    "country_codes"
   ]
  },
  {
   "cell_type": "code",
   "execution_count": null,
   "id": "6b57dfef",
   "metadata": {},
   "outputs": [],
   "source": [
    "# Also create a list of strings of full country names to use for order of countries in plots\n",
    "country_names = base_countries_df['Country'].loc[base_countries_df['COU'].isin(country_codes)].unique()\n",
    "country_names = np.sort(country_names).tolist()\n",
    "print(country_names)\n",
    "len(country_names)"
   ]
  },
  {
   "cell_type": "markdown",
   "id": "2a9f1215",
   "metadata": {},
   "source": [
    "Now the sample set of countries is set up in two lists: *country_codes* and *country_names*. The first dataset may now be explored."
   ]
  },
  {
   "cell_type": "markdown",
   "id": "17d95139",
   "metadata": {},
   "source": [
    "---\n",
    "\n",
    "## Threatened Species <a id=\"TS\"></a>"
   ]
  },
  {
   "cell_type": "markdown",
   "id": "8c127438",
   "metadata": {},
   "source": [
    "### About the Dataset\n",
    "\n",
    "The first dataset to explore is the OECD's [Threatened Species](https://stats.oecd.org/Index.aspx?DataSetCode=WILD_LIFE) dataset. This dataset will be one of two that are used to look at the biodiversity strengths of different countries. \n",
    "\n",
    "The term \"Threatened\" is defined as an umbrella term encompassing the IUCN statuses of \"Vulnerable,\" \"Endangered,\" and \"Critically Endangered.\" This dataset contains species counts and percentages for each country for species that are Threatened, Vulnerable, Endangered, Critically Endangered, as well as counts for those that are Known.\n",
    "\n",
    "The dataset breaks species into categories such as mammals, reptiles, amphibians, birds, and vascular plants. There is no aggregate data for total species in a country, in any IUCN category.\n",
    "\n",
    "\n",
    "### Limitations of the Dataset\n",
    "\n",
    "Because the data is supplied by the countries themselves, sometimes according to their own national classifications and data collection techniques, there may be inconsistencies in approach that could lead to different results, especially where prioritisation of incomplete data collection is concerned. \n",
    "\n",
    "The [OECD notes](https://stats.oecd.org/Index.aspx?DataSetCode=WILD_LIFE) on the limitations of this dataset point out that many species groups are not fully assessed, and counting efforts for such groups may focus on species most likely to be threatened, which may create bias where the percentage of threatened species could be overestimated.\n",
    "\n",
    "\n",
    "### Applications for this Project\n",
    "\n",
    "This dataset provides a means to calculate a key statistic for this project, namely, the percentage of threatened species within a country. This can be used to compare countries to each other, and later it can be used to look for correlations between species endangerment rates and land cover ratios across countries.\n",
    "\n",
    "To produce this statistic, it will be necessary to sum the raw counts of species within each category, both threatened and total known, and calculate the percentage from the summed values.\n",
    "\n",
    "\n",
    "### Considerations\n",
    "\n",
    "The aggregation of all at-risk IUCN categories into the single category of \"Threatened\" means that countries with similar overall percentages of threatened species will be viewed as on par with one another, even if one has a high proportion of \"Vulnerable\" species while another has a high proportion of \"Critically Endangered\" species. In other words, this metric may mask variations in severity of biodiversity status."
   ]
  },
  {
   "cell_type": "markdown",
   "id": "e8159a59",
   "metadata": {},
   "source": [
    "### Reading and Refining the Dataset"
   ]
  },
  {
   "cell_type": "code",
   "execution_count": null,
   "id": "f310ad7d",
   "metadata": {
    "scrolled": false
   },
   "outputs": [],
   "source": [
    "# Read in threatened species again to save to a dataframe for exploring this dataset\n",
    "threatened_species = pd.read_csv('Data/threatened_species.csv')\n",
    "threatened_species.head()"
   ]
  },
  {
   "cell_type": "code",
   "execution_count": null,
   "id": "e8f89927",
   "metadata": {},
   "outputs": [],
   "source": [
    "# View the range of values in IUCN Category and Species\n",
    "print(threatened_species['IUCN'].unique())\n",
    "print(threatened_species['IUCN Category'].unique())\n",
    "print(threatened_species['Species'].unique())"
   ]
  },
  {
   "cell_type": "markdown",
   "id": "84732ce5",
   "metadata": {},
   "source": [
    "The dataset is much larger than needed, with inclusion of statistics and some species subcategories that are irrelevant or more detailed than this project requires. \n",
    "\n",
    "As a first step, the fish subspecies should be removed, as they will count as duplicates when aggregating data:"
   ]
  },
  {
   "cell_type": "code",
   "execution_count": null,
   "id": "77b5fe9c",
   "metadata": {},
   "outputs": [],
   "source": [
    "# Drop fish subspecies categories from the dataset\n",
    "subcat_fish = threatened_species[threatened_species['SPEC'].isin(('MARINE_F','FRESHW_F'))]\n",
    "threatened_species = threatened_species.drop(subcat_fish.index)"
   ]
  },
  {
   "cell_type": "markdown",
   "id": "acbf5868",
   "metadata": {},
   "source": [
    "Now the records need to be limited to those with a relevant IUCN Category. \n",
    "\n",
    "In doing this, it is important to note that there is no Species column value representing all species combined. That means that the IUCN Category of 'Threatened species as a % of known species' only exists for categories, not for all species combined. Also, these values cannot simply be averaged, because it would not be a weighted average, taking population sizes into account.\n",
    "\n",
    "Instead, the total percentage will need to be calculated from the sums of each species category's 'Total number of threatened species' and 'Total number of known species' values. \n",
    "\n",
    "Therefore, a dataframe should be made that lists only records where the IUCN is equal to TOT_KNOWN or THREATENED. This will become the basis for calculating the total percent of species threatened."
   ]
  },
  {
   "cell_type": "code",
   "execution_count": null,
   "id": "4d90b2a1",
   "metadata": {},
   "outputs": [],
   "source": [
    "# Create a raw counts dataframe which will be used to calculate the total percent of species threatened\n",
    "threatened_species_totals = threatened_species.loc[(threatened_species['IUCN'] == 'THREATENED') |\n",
    "                                                   (threatened_species['IUCN'] == 'TOT_KNOWN')]\n",
    "# Reset the index\n",
    "threatened_species_totals = threatened_species_totals.reset_index(drop=True)\n",
    "threatened_species_totals.head()"
   ]
  },
  {
   "cell_type": "markdown",
   "id": "5c912e03",
   "metadata": {},
   "source": [
    "Out of interest, another dataframe can also be set up at this point that focuses on the categories themselves, using the percentage data. This can be used to create visualisations of the different species categories' extinction rates. This will be useful later if, as shall be seen, some countries only have partial data and need to be omitted from the totals dataframe."
   ]
  },
  {
   "cell_type": "code",
   "execution_count": null,
   "id": "a6968175",
   "metadata": {},
   "outputs": [],
   "source": [
    "# Create a species categories percentages dataframe, for comparison of categories\n",
    "threatened_species_cats = threatened_species.loc[(threatened_species['IUCN'] == 'THREAT_PERCENT')]\n",
    "\n",
    "# Reset the index\n",
    "threatened_species_cats = threatened_species_cats.reset_index(drop=True)\n",
    "threatened_species_cats.head()"
   ]
  },
  {
   "cell_type": "markdown",
   "id": "1335136f",
   "metadata": {},
   "source": [
    "### Checking the Data for Completeness"
   ]
  },
  {
   "cell_type": "markdown",
   "id": "14bd0e2c",
   "metadata": {},
   "source": [
    "Before performing any calculations or visualisations on the data, both dataframes need to be checked for completeness. \n",
    "\n",
    "First, a check for null values, and that no country has a total species count of 0:"
   ]
  },
  {
   "cell_type": "code",
   "execution_count": null,
   "id": "5384a2b7",
   "metadata": {},
   "outputs": [],
   "source": [
    "threatened_species_totals.loc[threatened_species_totals['Value'].isnull()]"
   ]
  },
  {
   "cell_type": "code",
   "execution_count": null,
   "id": "895aba18",
   "metadata": {},
   "outputs": [],
   "source": [
    "threatened_species_cats.loc[threatened_species_cats['Value'].isnull()]"
   ]
  },
  {
   "cell_type": "code",
   "execution_count": null,
   "id": "ce359d20",
   "metadata": {},
   "outputs": [],
   "source": [
    "# Check that no total species count is 0\n",
    "threatened_species_totals[(threatened_species_totals['IUCN'] == 'TOT_KNOWN') & \n",
    "                          (threatened_species_totals['Value'] == 0)]"
   ]
  },
  {
   "cell_type": "markdown",
   "id": "1c1198ab",
   "metadata": {},
   "source": [
    "Next, it is very important for the totals dataframe that each country has enough records of species categories that an aggregation of those records will not be skewed for lack of data. For instance, it could produce heavily skewed results if a country's \"total percent of species threatened\" was based only off of the weighted average of threatened percentages of moss and lichens. \n",
    "\n",
    "For the purposes of this study, if a country has a majority of species categories, then it will be included in the aggregation calculation. This is likely to prevent major skewing.\n",
    "\n",
    "Even more critically, it must be verified that both statistics for each included species category exist. For example, if a country has a record for counts of total birds, it must also have a record for counts of threatened birds. Otherwise, the calculated average will be wildly off. "
   ]
  },
  {
   "cell_type": "code",
   "execution_count": null,
   "id": "e8e50597",
   "metadata": {
    "scrolled": true
   },
   "outputs": [],
   "source": [
    "# Check for countries that have adequate, complete category data, to qualify for aggregation\n",
    "# NOTE: Uncomment print statements to see full output (they are commented out because it is long)\n",
    "print('\\nTotal starting countries: ' + str(len(country_names)) + '\\n')\n",
    "qualifying_countries = []\n",
    "for c in country_names:\n",
    "    qualifies = True\n",
    "    # Get this country's set of threatened species records\n",
    "    threatened = threatened_species_totals.loc[(threatened_species_totals['IUCN'] == 'THREATENED') &\n",
    "                                               (threatened_species_totals['Country'] == c)]\n",
    "    \n",
    "    # Search for corresponding records for total known species\n",
    "    # Count qualifying species categories to check for a majority\n",
    "    species_count = 0\n",
    "    for species in threatened['SPEC']:\n",
    "        # print(c + ': ' + species)\n",
    "        # Check that the category has a corresonding record for total known species\n",
    "        if ((threatened_species_totals['Country'] == c) & \n",
    "            (threatened_species_totals['SPEC'] == species) &\n",
    "            (threatened_species_totals['IUCN'] == 'TOT_KNOWN')).any():\n",
    "            # print('    Corresponding record exists')               \n",
    "            species_count += 1\n",
    "        else:\n",
    "            # This category does not qualify, and therefore the country does not qualify for aggregation\n",
    "            # print('    Corresponding record DOES NOT EXIST')\n",
    "            qualifies = False\n",
    "            break\n",
    "    # If a majority of species categories qualified, the country qualified\n",
    "    if (species_count > 4) & (qualifies):\n",
    "        qualifying_countries.append(c)\n",
    "    else:\n",
    "        print(c + ' does not qualify.')\n",
    "\n",
    "print('\\nTotal qualifying countries: ' + str(len(qualifying_countries)))"
   ]
  },
  {
   "cell_type": "markdown",
   "id": "c69bd149",
   "metadata": {},
   "source": [
    "From the above output, it appears that four countries lack sufficient records to be used in the aggregation calculation. Brazil, Mexico, and New Zealand possess records that lack corresponding data in their respective categories, which would lead to wildly erroneous percentage calculations. Iceland simply lacks enough data overall. \n",
    "\n",
    "The totals dataframe should be updated to exclude these countries from its data, so that the aggregated counts and percentages can be calculated."
   ]
  },
  {
   "cell_type": "code",
   "execution_count": null,
   "id": "e509341b",
   "metadata": {},
   "outputs": [],
   "source": [
    "# Update the threatened_species_totals dataframe to include only the qualifying countries\n",
    "threatened_species_totals = threatened_species_totals.loc[threatened_species_totals['Country'].isin(qualifying_countries)]\n",
    "print(len(threatened_species_totals['COU'].unique()))\n",
    "threatened_species_totals['COU'].unique()"
   ]
  },
  {
   "cell_type": "markdown",
   "id": "82274ac9",
   "metadata": {},
   "source": [
    "### Aggregating the Data"
   ]
  },
  {
   "cell_type": "markdown",
   "id": "489e50f9",
   "metadata": {},
   "source": [
    "The data from the qualifying countries can now be used to calculate the total percents of species threatened in the totals dataframe. \n",
    "\n",
    "Create a new dataframe of countries and their total percentages of threatened species."
   ]
  },
  {
   "cell_type": "code",
   "execution_count": null,
   "id": "c939bbef",
   "metadata": {},
   "outputs": [],
   "source": [
    "# First, get the sum of counts of all threatened species for each country\n",
    "total_threatened = threatened_species_totals.loc[threatened_species_totals['IUCN'] == 'THREATENED']\n",
    "total_threatened = total_threatened.groupby(['Country'], as_index=False)['Value'].sum()\n",
    "total_threatened.head()"
   ]
  },
  {
   "cell_type": "code",
   "execution_count": null,
   "id": "40778922",
   "metadata": {},
   "outputs": [],
   "source": [
    "# Second, get the sum of counts of all known species that exist in each country\n",
    "total_known = threatened_species_totals.loc[threatened_species_totals['IUCN'] == 'TOT_KNOWN']\n",
    "total_known = total_known.groupby(['Country'], as_index=False)['Value'].sum()\n",
    "total_known.head()"
   ]
  },
  {
   "cell_type": "code",
   "execution_count": null,
   "id": "636a9423",
   "metadata": {
    "scrolled": true
   },
   "outputs": [],
   "source": [
    "# Use these sums to calculate the total percentage of threatened species for each country\n",
    "percents = {}\n",
    "for c in qualifying_countries:\n",
    "    # Extract the numeric values for the species counts for this country\n",
    "    threatened = total_threatened.loc[total_threatened['Country'] == c, 'Value'].iat[0]\n",
    "    total = total_known.loc[total_known['Country'] == c, 'Value'].iat[0]\n",
    "    # Calculate the percentage and store in the dict\n",
    "    percents[c] = (threatened/total)*100\n",
    "    \n",
    "# Convert the percents dictionary to a pandas dataframe\n",
    "percents_series = pd.Series(percents)\n",
    "total_threatened_percents = pd.DataFrame(percents_series).reset_index()\n",
    "total_threatened_percents.columns = ['Country', 'Value'] # name the columns\n",
    "total_threatened_percents"
   ]
  },
  {
   "cell_type": "markdown",
   "id": "a469e710",
   "metadata": {},
   "source": [
    "### Visualising the Data"
   ]
  },
  {
   "cell_type": "markdown",
   "id": "248bf731",
   "metadata": {},
   "source": [
    "#### *Total Percentages of Threatened Species*"
   ]
  },
  {
   "cell_type": "markdown",
   "id": "5a54131c",
   "metadata": {},
   "source": [
    "Now the total percentages of threatened species for all countries is ready to be visualised. As this is a single statistic for each of the qualifying countries, and there is a large number of countries, a bar plot will be a suitable visualisation."
   ]
  },
  {
   "cell_type": "code",
   "execution_count": null,
   "id": "232c80cd",
   "metadata": {},
   "outputs": [],
   "source": [
    "# Plot the total percentages of threatened species, as a barplot\n",
    "\n",
    "# Set size and style\n",
    "sns.set_style('whitegrid', {\"xtick.bottom\": True})\n",
    "plt.rcParams['figure.dpi'] = 150\n",
    "plt.figure(figsize=(12,5)) \n",
    "\n",
    "# Create the plot\n",
    "g = sns.barplot(data=total_threatened_percents, x='Country', y='Value', order=qualifying_countries)\n",
    "g.set(ylim=(0,50))\n",
    "\n",
    "# Set title and labels\n",
    "g.set_title('Total Percentages of Threatened Species', pad=15)\n",
    "g.set_xlabel(None)\n",
    "g.set_ylabel('Percent of All Species Threatened', size=11)\n",
    "g.set_xticklabels(g.get_xticklabels(), rotation=60, horizontalalignment='right', size=9)\n",
    "\n",
    "plt.show()"
   ]
  },
  {
   "cell_type": "markdown",
   "id": "e3056dea",
   "metadata": {},
   "source": [
    "It is possibly surprising to see such high peaks for certain countries (Germany, Luxembourg, Netherlands, Switzerland), which are so much higher than the others. Could these countries really have such vastly higher rates of threatened species than their neighbours, or were there differences in approaches to counting species between the countries, or incomplete data collection, which may have led to such different numbers? The [OECD notes](https://stats.oecd.org/Index.aspx?DataSetCode=WILD_LIFE) for this data suggest that some countries may have focused their efforts more on counting species considered likely to be threatened, creating potential bias in the data towards higher percentages of threatened species for those countries. Other countries may have submitted incomplete counts of threatened species.\n",
    "\n",
    "It is not clear. The second dataset in this report, the Red List Index, may grant a different view on the species endangerment rates of these countries."
   ]
  },
  {
   "cell_type": "markdown",
   "id": "dcf866a4",
   "metadata": {},
   "source": [
    "#### *Percentages of Species Categories Threatened*"
   ]
  },
  {
   "cell_type": "markdown",
   "id": "a676bd8f",
   "metadata": {},
   "source": [
    "Before moving on to the Red List Index, there is another statistic in the Threatened Species dataset worth plotting: the percentages of species that are threatened for each category of species. This data can be plotted in side-by-side bar graphs, to compare performance across species categories. Unlike the graph above, this visualisation can include countries with data for only one or two categories. They simply will have no values plotted in those subplots for which they have no data."
   ]
  },
  {
   "cell_type": "code",
   "execution_count": null,
   "id": "5a01452e",
   "metadata": {},
   "outputs": [],
   "source": [
    "# Reduce the categories dataframe to a shorter list of species\n",
    "main_species = ('Mammals','Amphibians','Reptiles','Birds','Fish')\n",
    "threatened_species_cats = threatened_species_cats.loc[threatened_species_cats['Species'].isin(main_species)]"
   ]
  },
  {
   "cell_type": "code",
   "execution_count": null,
   "id": "3c6ec6cb",
   "metadata": {},
   "outputs": [],
   "source": [
    "# Create a colour palette for the species categories\n",
    "pal_species = dict(zip(main_species, \n",
    "                        sns.color_palette(\"colorblind\", len(main_species))))"
   ]
  },
  {
   "cell_type": "code",
   "execution_count": null,
   "id": "fc4052a1",
   "metadata": {
    "scrolled": false
   },
   "outputs": [],
   "source": [
    "# Draw the visualisation, one barplot for each species category\n",
    "\n",
    "# Set the size and style\n",
    "sns.set_style(\"whitegrid\")\n",
    "plt.rcParams['figure.dpi'] = 150\n",
    "\n",
    "# Create a FacetGrid of barplots\n",
    "g = sns.FacetGrid(threatened_species_cats, col='Species', col_order=main_species, col_wrap=5, \n",
    "                  hue='Species', palette=pal_species, height=10, aspect=0.3, xlim=(0, 90))\n",
    "g.map(sns.barplot, 'Value', 'Country', order=country_names)\n",
    "g.figure.subplots_adjust(wspace=0.5)\n",
    "\n",
    "# Set axis labels and spacing\n",
    "g.set_axis_labels('Threatened Species %', '')\n",
    "for subplot in g.axes.flatten():\n",
    "    subplot.tick_params(labelleft=True, labeltop=True)"
   ]
  },
  {
   "cell_type": "markdown",
   "id": "6a5b8507",
   "metadata": {},
   "source": [
    "Unlike the total percentages visualisation, this one contains entries for Brazil, Mexico, New Zealand, and Iceland, although they are missing data for most categories. "
   ]
  },
  {
   "cell_type": "markdown",
   "id": "61e6f549",
   "metadata": {},
   "source": [
    "---\n",
    "\n",
    "## Red List Index <a id=\"RLI\"></a>"
   ]
  },
  {
   "cell_type": "markdown",
   "id": "556d1f32",
   "metadata": {},
   "source": [
    "### About the Dataset\n",
    "\n",
    "The second dataset to explore is the [Red List Index](https://stats.oecd.org/Index.aspx?DataSetCode=RED_LIST) dataset. This dataset is the second of two that are used to look at the biodiversity strengths of different countries. \n",
    "\n",
    "The Red List Index is a more reliable and robust metric than the data in the Threatened Species dataset. It is not a collection of raw counts (which may be incomplete), but a calculated index based on changes in the weighted counts of species in different bands of IUCN Threatened status.[[1]] Its values range from 0 to 1, with 1 representing the notion that all of a country's species are of Least Concern, and 0 representing the notion that all species have gone extinct. In other words, it is a measure of the rate of biodiversity loss.\n",
    "\n",
    "Unlike the IUCN status categories used in the previous dataset, the Red List Index communicates change over time. Past years' IUCN classifications of species were often erroneous due to poor data collection techniques, so changes between classes were often due to adjustments in accuracy.[[2]] The Red List Index, however, accounts for this, and so its values are are a more accurate representation of the changing status of countries over time. When the RLI is falling in a country over time, it means that the rate of extinctions or biodiversity loss is increasing, and vice versa.[[1]]\n",
    "\n",
    "\n",
    "### Limitations and Ethics of the Data\n",
    "\n",
    "Although it is a fairly reliable and trusted statistic, there are still many species groups that are under-counted or data deficient, and species counting challenges do still affect the RLI.\n",
    "\n",
    "\n",
    "### Applications for this Project\n",
    "\n",
    "As with the Threatened Species dataset, the Red List Index may be used as a single-value metric by which to compare countries in regards to the strength of the health of their wildlife, and to look for correlations with other behaviours such as land cover. Because it is based on more reliable data collection, however, it is likely a better statistic to use for these purposes. It can also be used to verify the results of the analysis of the Threatened Species data.\n",
    "\n",
    "A second benefit is that the dataset contains historical data, with declining or rising rates over time indicating rising or declining rates of biodiversity loss. Therefore, the dataset can be used to plot trends over the last two decades, giving a deeper picture of the situation of biodiversity loss. This will also enable comparison to trends in changes in land cover over a similar period.\n",
    "\n",
    "[1]: http://datazone.birdlife.org/species/spcrli \"Birdlife International - Red List Index Methodology\"\n",
    "[2]: https://www.iucnredlist.org/assessment/red-list-index \"IUCN Red List - Red List Index Assessment\""
   ]
  },
  {
   "cell_type": "markdown",
   "id": "a880dea8",
   "metadata": {},
   "source": [
    "### Reading and Refining the Dataset"
   ]
  },
  {
   "cell_type": "code",
   "execution_count": null,
   "id": "a2b1f25f",
   "metadata": {},
   "outputs": [],
   "source": [
    "# Load the red list index dataset\n",
    "red_list_index = pd.read_csv('Data/red_list_index.csv')\n",
    "red_list_index.head()"
   ]
  },
  {
   "cell_type": "code",
   "execution_count": null,
   "id": "f9be51bf",
   "metadata": {},
   "outputs": [],
   "source": [
    "# View some of the ranges of values to get a sense of the data\n",
    "print(red_list_index['VAR'].unique())\n",
    "print(red_list_index['Year'].unique())\n",
    "print(red_list_index['COU'].unique())"
   ]
  },
  {
   "cell_type": "markdown",
   "id": "a96d8738",
   "metadata": {},
   "source": [
    "The dataset contains data for nearly every country in the world. It needs to be restricted to this project's sample set.\n",
    "\n",
    "Further, the dataset contains statistics for Upper and Lower Bounds, which this project will not use. These records should also be dropped from the dataframe."
   ]
  },
  {
   "cell_type": "code",
   "execution_count": null,
   "id": "80ed91b3",
   "metadata": {},
   "outputs": [],
   "source": [
    "# Update the dataframe to use only the project country list\n",
    "red_list_index = red_list_index.loc[red_list_index['COU'].isin(country_codes)]\n",
    "\n",
    "# Remove records for variables other than the red list index\n",
    "red_list_index = red_list_index.loc[red_list_index['VAR'] == 'INDEX']\n",
    "\n",
    "# Reset the index \n",
    "red_list_index = red_list_index.reset_index(drop=True)\n",
    "\n",
    "# Confirm only the correct values now exist in the specified columns\n",
    "print(red_list_index['Country'].unique())\n",
    "print(red_list_index['VAR'].unique())"
   ]
  },
  {
   "cell_type": "markdown",
   "id": "bc11e81e",
   "metadata": {},
   "source": [
    "### Checking the Data for Completeness"
   ]
  },
  {
   "cell_type": "markdown",
   "id": "23cda0c9",
   "metadata": {},
   "source": [
    "The data must now be checked for missing records and any missing or out-of-range values.\n",
    "\n",
    "First, all index values should be between 0 and 1. A value of 0 or 1 is likely to be incorrect or represent missing data, as no country should currently have 100% of its species extinct or entirely of least concern."
   ]
  },
  {
   "cell_type": "code",
   "execution_count": null,
   "id": "4844a348",
   "metadata": {},
   "outputs": [],
   "source": [
    "red_list_index[red_list_index['Value'].isnull()]"
   ]
  },
  {
   "cell_type": "code",
   "execution_count": null,
   "id": "80ab9a34",
   "metadata": {
    "scrolled": true
   },
   "outputs": [],
   "source": [
    "red_list_index[(red_list_index['Value'] <= 0) | (red_list_index['Value'] >= 1)]"
   ]
  },
  {
   "cell_type": "markdown",
   "id": "18646d8e",
   "metadata": {},
   "source": [
    "A grouping of the records by country will quickly show if any countries are missing a year's records."
   ]
  },
  {
   "cell_type": "code",
   "execution_count": null,
   "id": "8f092bc4",
   "metadata": {
    "scrolled": true
   },
   "outputs": [],
   "source": [
    "red_list_index.groupby('Country').count()"
   ]
  },
  {
   "cell_type": "markdown",
   "id": "b44520d1",
   "metadata": {},
   "source": [
    "There is a complete set of 21 records for each country, with no null values. "
   ]
  },
  {
   "cell_type": "markdown",
   "id": "7e4cd402",
   "metadata": {},
   "source": [
    "### Visualising the Data"
   ]
  },
  {
   "cell_type": "markdown",
   "id": "cd95157b",
   "metadata": {},
   "source": [
    "#### *Red List Index for the Most Recent Year*"
   ]
  },
  {
   "cell_type": "markdown",
   "id": "696e30ee",
   "metadata": {},
   "source": [
    "As a comparison of this statistic to the previous one, Threatened Species, it would be interesting to view a comparable bar plot showing the relative strengths of the countries. To do this, the most recent year on record can be used."
   ]
  },
  {
   "cell_type": "code",
   "execution_count": null,
   "id": "565de134",
   "metadata": {},
   "outputs": [],
   "source": [
    "# Create a dataframe limited to the most recent year\n",
    "rli_final_year = red_list_index.loc[red_list_index['Year'] == red_list_index['Year'].max()]\n",
    "rli_final_year.head()"
   ]
  },
  {
   "cell_type": "code",
   "execution_count": null,
   "id": "35fc72a4",
   "metadata": {},
   "outputs": [],
   "source": [
    "# Plot the data for the latest year on record in a barplot\n",
    "\n",
    "# Set style and size\n",
    "sns.set_style('whitegrid', {\"xtick.bottom\": True})\n",
    "plt.rcParams['figure.dpi'] = 150\n",
    "plt.figure(figsize=(12,5))\n",
    "\n",
    "# Create the barplot\n",
    "g = sns.barplot(data=rli_final_year, x='Country', y='Value', order=country_names)\n",
    "g.set(ylim=(0.5,1))\n",
    "\n",
    "# Set labels and tick labels\n",
    "g.set_title('Red List Index of Countries - Most Recent Year (2021)', pad=15)\n",
    "g.set_xlabel(None)\n",
    "g.set_ylabel('Red List Index', size=11)\n",
    "g.set_xticklabels(g.get_xticklabels(), rotation=60, horizontalalignment='right', size=9)\n",
    "\n",
    "plt.show()"
   ]
  },
  {
   "cell_type": "markdown",
   "id": "8d609a09",
   "metadata": {},
   "source": [
    "The y-axis has been limited to a range of 0.5-1, because no country in the study has an RLI lower than 0.6.\n",
    "\n",
    "Comparing this plot to the Threatened Species total percentages plot, it is striking that countries which were worst performing there (Germany, Luxembourg, Netherlands, and Switzerland) are not among the worst performing here. And countries which had low total percentages of threatened species, such as Chile and Korea, have quite low RLI scores. \n",
    "\n",
    "It is safe to say that the Red List Index dataset does not very well back up or support the results of the Threatened Species dataset, and there is good reason to trust the Red List Index as the more reliable statistic."
   ]
  },
  {
   "cell_type": "markdown",
   "id": "8535a5d4",
   "metadata": {},
   "source": [
    "#### *Red List Index Changes over Time*"
   ]
  },
  {
   "cell_type": "markdown",
   "id": "b8866519",
   "metadata": {},
   "source": [
    "The Red List Index dataset contains 21 years of records for each country. This means that progress over time can be charted. This would add depth to understanding of the situation for biodiversity health in different countries, as a declining RLI means that rate of biodiversity loss is increasing, and vice versa.\n",
    "\n",
    "However, continuous data over time for 37 countries would be very challenging to read and make sense of in a single plot. A solution to this is to make a lattice of plots, one for each country, so that different patterns can be caught by the eye."
   ]
  },
  {
   "cell_type": "code",
   "execution_count": null,
   "id": "e03a6eeb",
   "metadata": {
    "scrolled": false
   },
   "outputs": [],
   "source": [
    "# Make a lattice grid of relplots, one for each country's RLI over time\n",
    "\n",
    "# Set styles and size\n",
    "sns.set_style(\"whitegrid\")\n",
    "plt.rcParams['figure.dpi'] = 150\n",
    "\n",
    "# Create a facetGrid of subplots\n",
    "g = sns.relplot(data=red_list_index, kind=\"line\", x=\"Year\", y=\"Value\", hue=\"Country\",\n",
    "            col=\"Country\", col_wrap=6, col_order=country_names, ci=None, height=2, legend=False);\n",
    "g.figure.subplots_adjust(wspace=0.27)\n",
    "\n",
    "# Set overall title\n",
    "g.fig.suptitle('Red List Index Changes Over Time', y=1.02)\n",
    "\n",
    "# Set subplot titles and labels\n",
    "g.set_titles(col_template=\"{col_name}\")\n",
    "g.set_axis_labels(None, \"RLI\")\n",
    "\n",
    "# Set subplot tick labels\n",
    "g.set(xlim=(2001, 2021), ylim=(0.6, 1), xticks=[2001,2021])\n",
    "for subplot in g.axes.flatten():\n",
    "    subplot.tick_params(labelbottom=True)"
   ]
  },
  {
   "cell_type": "markdown",
   "id": "a6319dfa",
   "metadata": {},
   "source": [
    "There are a few patterns which immediately jump out as interesting observations:\n",
    "\n",
    "- Most countries have a steady RLI, but this does not mean that biodiversity is not decreasing. It means that the rate of biodiversity loss is neither increasing nor decreasing.\n",
    "\n",
    "- Poland is the only country whose rate of biodiversity loss improved over time.\n",
    "\n",
    "- France is the only European country to worsen substantially.\n",
    "\n",
    "- Many warmer countries, which tend to have more natural biodiversity, have lower indices or steeper declines. "
   ]
  },
  {
   "cell_type": "markdown",
   "id": "f19e284e",
   "metadata": {},
   "source": [
    "### Comparative Conclusions between Threatened Species and Red List Index Datasets"
   ]
  },
  {
   "cell_type": "markdown",
   "id": "3b387dce",
   "metadata": {},
   "source": [
    "The discussion of the limitations of the two datasets, as well as the view of the data, suggest that the Threatened Species dataset may not be as reliable as a metric as the Red List Index. Because of this, preference will be given in later sections to the Red List Index as the potentially more reliable statistic for representing the state of species endangerment in each country"
   ]
  },
  {
   "cell_type": "markdown",
   "id": "fa574dfa",
   "metadata": {},
   "source": [
    "---\n",
    "\n",
    "## Land Cover <a id=\"LC\"></a>"
   ]
  },
  {
   "cell_type": "markdown",
   "id": "1a75ff08",
   "metadata": {},
   "source": [
    "### About the Dataset\n",
    "\n",
    "The [Land Cover]((https://stats.oecd.org/Index.aspx?DataSetCode=LAND_COVER) dataset measures how countries' land mass is divided between types of land. This is determined by satellite imagery.\n",
    "\n",
    "Type of land cover are called Land Cover Classes, and these fall into roughly two categories: natural and non-natural, although this distinction is not made in the dataset. The natural classes include Tree Cover, Grassland, Wetland, and Inland Water, among others. The non-natural classes are twofold: Cropland and Artificial Surfaces, which includes all urban areas and anything paved. \n",
    "\n",
    "The dataset contains two types of measure: square kilometers, and percentage of the total land mass.\n",
    "\n",
    "It contains values for particular past years, not annually: 1992, 2004, 2015, 2018, and 2019.\n",
    "\n",
    "\n",
    "### Limitations of the Dataset\n",
    "\n",
    "Because this data is gathered from satellite imagery, it has good completion, although determination of bounderies is an issue that has some notes in the OECD listing of this database. \n",
    "\n",
    "The most severe limitation of this data is that while showing the extent of non-natural land cover does inform about where nature can **not** thrive, the inverse is not true. Reportage of natural land cover does not necessarily mean that nature can and does thrive there.[[1]] For one, the percentages of land cover in each class say nothing about how intact the land is, or whether it is continually bisected by roads or other infrastructures, or chequered by farms. For another, it does not comment on the quality of the land, whether it is rampant with invasive species, or pollution, or poachers, or other human activity. \n",
    "\n",
    "\n",
    "### Applications for this Project\n",
    "\n",
    "This study's main aims are to compare markers for biodiversity health to data on land cover ratios. Despite this dataset's limitations, its advantage is that it comes very close to painting a picture of the balance of human and wild division of the land, on a global scale, something which is not easy to do. This study seeks to investigate whether indeed this statistic can be shown to have a correlation with species endangerment rates across countries.\n",
    "\n",
    "The land cover classes will need to be lumped into natural and non-natural types, although seeing a breakdown of each type would be interesting. \n",
    "\n",
    "The historic data will also be of interest, in particular to plot against the historic Red List Index data. There are gaps in the years, and the range is not exactly the same, but it mostly overlaps, and the trend can still be plotted.\n",
    "\n",
    "[1]: https://theconversation.com/just-3-of-earths-land-ecosystems-remain-intact-but-we-can-change-that-158587 \"The Conversation - Just 3% of Earth's Land Ecosystems...\""
   ]
  },
  {
   "cell_type": "markdown",
   "id": "d8886484",
   "metadata": {},
   "source": [
    "### Reading and Refining the Data"
   ]
  },
  {
   "cell_type": "code",
   "execution_count": null,
   "id": "c0c0e948",
   "metadata": {},
   "outputs": [],
   "source": [
    "land_cover = pd.read_csv('Data/land_cover.csv')\n",
    "land_cover.head()"
   ]
  },
  {
   "cell_type": "markdown",
   "id": "e8cc0fa2",
   "metadata": {},
   "source": [
    "A view of the different possible values in the various columns will inform as to whether the records need to be filtered."
   ]
  },
  {
   "cell_type": "code",
   "execution_count": null,
   "id": "9a34336e",
   "metadata": {},
   "outputs": [],
   "source": [
    "print(land_cover['Year'].unique())\n",
    "print(land_cover['Measure'].unique())\n",
    "print(land_cover['Land cover class'].unique())\n",
    "print(land_cover['Small subnational region'].unique())\n",
    "print(land_cover['Large subnational region'].unique())"
   ]
  },
  {
   "cell_type": "markdown",
   "id": "4da3e224",
   "metadata": {},
   "source": [
    "From the above, it can be seen that the values in the Measure column should be filtered. This project is only interested in relative differences between countries, meaning that only the measure of percentage of land cover will be useful. \n",
    "\n",
    "The values for Large and Small subnational region do not fluctuate, so they can safely be ignored.\n",
    "\n",
    "As before, the dataset must also be filtered to be limited to the countries used in this project."
   ]
  },
  {
   "cell_type": "code",
   "execution_count": null,
   "id": "e6830eb6",
   "metadata": {},
   "outputs": [],
   "source": [
    "# Update the dataframe to include only the focus countries\n",
    "land_cover = land_cover.loc[land_cover['COU'].isin(country_codes)]\n",
    "\n",
    "# Update the dataframe to restrict records to those measuring land cover percentages\n",
    "land_cover = land_cover.loc[land_cover['MEAS'] == 'PCNT']\n",
    "\n",
    "# Reset the index\n",
    "land_cover = land_cover.reset_index(drop=True)\n",
    "\n",
    "# Confirm only the desired records exist\n",
    "print(land_cover['Country'].unique())\n",
    "print(land_cover['Measure'].unique())\n",
    "print(land_cover['Land cover class'].unique())"
   ]
  },
  {
   "cell_type": "markdown",
   "id": "03dfe065",
   "metadata": {},
   "source": [
    "### Checking the Data for Completeness and Accuracy"
   ]
  },
  {
   "cell_type": "markdown",
   "id": "eb98abe1",
   "metadata": {},
   "source": [
    "Now that irrelevant statistics are removed from the dataframe, the data must be checked that:\n",
    "1. No years are missing any land cover class records for any of the countries. If they are, a decision will need to be made as to what to do.\n",
    "2. No percentage values are NaN or out of range.\n",
    "3. The percentages for the different land cover classes actually add up to 100% for each country, in each year.\n",
    "\n",
    "To do the first check, a count of countries for each land cover class in each year will quickly expose whether some years or countries are missing records."
   ]
  },
  {
   "cell_type": "code",
   "execution_count": null,
   "id": "73c6abf6",
   "metadata": {
    "scrolled": true
   },
   "outputs": [],
   "source": [
    "# Check if any years are missing data\n",
    "# Using count() because will expose any NaN values for the Country\n",
    "record_counts = land_cover.groupby(['Year', 'Land cover class'])['Country'].count()\n",
    "record_counts"
   ]
  },
  {
   "cell_type": "markdown",
   "id": "f3e3a7ab",
   "metadata": {},
   "source": [
    "It can be seen that all years contain the same number of records for each land cover class, which matches the number of countries being used for this project. This suggests all countries have the full number of records in the dataset.\n",
    "\n",
    "Next, the percent values should be checked for null values, and that when summed for each country/year, they add up to 100%."
   ]
  },
  {
   "cell_type": "code",
   "execution_count": null,
   "id": "e2156e53",
   "metadata": {},
   "outputs": [],
   "source": [
    "# Check for any instances of NaN values in the Value column\n",
    "land_cover[land_cover['Value'].isnull()]"
   ]
  },
  {
   "cell_type": "code",
   "execution_count": null,
   "id": "00c1028b",
   "metadata": {},
   "outputs": [],
   "source": [
    "# Confirm that coverage areas combine to a total of 100% for each country and year\n",
    "totals = land_cover.groupby(['Country', 'Year'], as_index=False)['Value'].sum().round(2)\n",
    "print(totals)\n",
    "print(totals.loc[totals['Value'] != 100.00])"
   ]
  },
  {
   "cell_type": "markdown",
   "id": "d3def5fa",
   "metadata": {},
   "source": [
    "It appears that the data has good completeness and that all percentage values sum up to 100% (with rounding). "
   ]
  },
  {
   "cell_type": "markdown",
   "id": "eac77165",
   "metadata": {},
   "source": [
    "### Visualising the Data"
   ]
  },
  {
   "cell_type": "markdown",
   "id": "94461a8d",
   "metadata": {},
   "source": [
    "#### *Land Cover Class Distribution - Most Recent Year (2019)*"
   ]
  },
  {
   "cell_type": "markdown",
   "id": "69b883de",
   "metadata": {},
   "source": [
    "To get an initial view of the data, it would be helpful to view a comparison between the current breakdown of land cover between countries. To do this, the most recent year's data can be used. As this is nested categorical data, a stacked bar plot would be an effective way to see the relative performance of countries, side by side.\n",
    "\n",
    "To make a stacked bar plot, Seaborn requires that data be \"wide\". That is, that each row represent one supercategory, which in this case is the country, and each column represent one subcatgory, which in this case is the land cover class. Such a structure would only have one record per country, but many more columns. The dataset provided, however, is \"long\", with single columns for country and land cover class, and multiple records for each combination between them.\n",
    "\n",
    "The data will therefore need to be pivoted and restructured. "
   ]
  },
  {
   "cell_type": "code",
   "execution_count": null,
   "id": "ba02e319",
   "metadata": {},
   "outputs": [],
   "source": [
    "# Create a \"wide\" dataframe of the land cover data for the most recent year\n",
    "\n",
    "# First gather data for the the most recent year\n",
    "land_cover_latest = land_cover.loc[land_cover['Year'] == land_cover['Year'].max()]\n",
    "\n",
    "# Next, filter the columns to include only the relevant statistics for the plot\n",
    "land_cover_latest = land_cover_latest.filter(['Country', 'Land cover class', 'Value'])\n",
    "\n",
    "# Lastly, transpose the dataframe so that its data is \"wide\"\n",
    "land_cover_latest = land_cover_latest.pivot(index='Country', columns='Land cover class', values='Value')\n",
    "land_cover_latest.head()"
   ]
  },
  {
   "cell_type": "markdown",
   "id": "90eaf408",
   "metadata": {},
   "source": [
    "\n",
    "***Plot 1: Stacked Bar Plot for All Land Cover Classes in 2019***"
   ]
  },
  {
   "cell_type": "markdown",
   "id": "951054ec",
   "metadata": {},
   "source": [
    "Now the data can be plotted as a stacked bar plot. According to the previously performed checks, each bar should stack up to 100."
   ]
  },
  {
   "cell_type": "code",
   "execution_count": null,
   "id": "3bf580ee",
   "metadata": {},
   "outputs": [],
   "source": [
    "# Plot the land cover distribution for 2019 as a stacked bar graph\n",
    "# Each country's land cover is broken down into cover type percentages\n",
    "\n",
    "# Set style and size\n",
    "sns.set_style('whitegrid', {\"xtick.bottom\": True})\n",
    "plt.rcParams['figure.dpi'] = 150\n",
    "\n",
    "# Create the bar plot\n",
    "g = land_cover_latest.plot(kind='bar', stacked=True, figsize=(10,5), rot=80)\n",
    "\n",
    "# Set labels and legend\n",
    "g.set_title('Breakdown of All Land Cover Classes by Percentage Coverage - 2019', pad=15)\n",
    "g.set_xlabel(None)\n",
    "g.set_ylabel('Percentage of Land Cover')\n",
    "\n",
    "# Position the legend\n",
    "plt.legend(bbox_to_anchor=(1.0, 1.0))\n",
    "\n",
    "plt.show()"
   ]
  },
  {
   "cell_type": "markdown",
   "id": "f8a10908",
   "metadata": {},
   "source": [
    "The full breakdown of land cover types is on display. However, this plot is visually cluttered, making it difficult to detect patterns amongst all the colours and lines. It simultaneously does not get to the heart of the matter, which is how countries perform in terms of balancing their land use between natural and non-natural land cover types. \n",
    "\n",
    "A simplification is in order. What is truly needed is two super-categories of land cover type: natural and non-natural. If these categories are created, then the broader strokes of balance between them can be more clearly seen."
   ]
  },
  {
   "cell_type": "markdown",
   "id": "dc24691d",
   "metadata": {},
   "source": [
    "***Plot 2: Stacked Bar Plot for 2019 with Aggregated Natural Classes***"
   ]
  },
  {
   "cell_type": "code",
   "execution_count": null,
   "id": "e7a64d27",
   "metadata": {},
   "outputs": [],
   "source": [
    "# Create two lists, one for natural and one for non-natural land cover classes\n",
    "natural_covers = ['Bare area', 'Grassland', 'Inland water', 'Shrubland', 'Sparse vegetation', 'Tree cover', 'Wetland']\n",
    "nonnatural_covers = ['Artificial surfaces', 'Cropland']"
   ]
  },
  {
   "cell_type": "markdown",
   "id": "c35bcd28",
   "metadata": {},
   "source": [
    "A new dataframe may now be created. All natural land cover class percentages should be aggregated into a single column. As for the non-natural classes, it may be interesting to preserve the view of them as distinct, for now, so these two classes will not yet be aggregated."
   ]
  },
  {
   "cell_type": "code",
   "execution_count": null,
   "id": "70ed8b3d",
   "metadata": {
    "scrolled": false
   },
   "outputs": [],
   "source": [
    "# Copy the dataframe, but with all natural land cover classes combined into a single column\n",
    "\n",
    "# Copy over the columns which will not change\n",
    "land_cover_latest_agg = land_cover_latest.filter(['Country', 'Artificial surfaces', 'Cropland'])\n",
    "\n",
    "# Add a new column that holds an aggregate value for all natural cover types\n",
    "land_cover_latest_agg['Natural land'] = land_cover_latest[natural_covers].sum(axis=1)\n",
    "\n",
    "land_cover_latest_agg.head()"
   ]
  },
  {
   "cell_type": "markdown",
   "id": "c216f932",
   "metadata": {},
   "source": [
    "This simplified version can now be plotted:"
   ]
  },
  {
   "cell_type": "code",
   "execution_count": null,
   "id": "188c5d6f",
   "metadata": {},
   "outputs": [],
   "source": [
    "# Stacked bar chart showing only non-natural cover types relative to natural types\n",
    "\n",
    "# Set style and size\n",
    "sns.set_style('whitegrid', {\"xtick.bottom\": True})\n",
    "plt.rcParams['figure.dpi'] = 150\n",
    "\n",
    "# Create the stacked bar plot\n",
    "g = land_cover_latest_agg.plot(kind='bar', stacked=True, figsize=(10,5), rot=80)\n",
    "\n",
    "# Set title and labels\n",
    "g.set_title('Breakdown of Natural vs Non-Natural Classes by Percentage Coverage - 2019', pad=15)\n",
    "g.set_xlabel(None)\n",
    "g.set_ylabel('Percentage of Land Cover')\n",
    "\n",
    "# Position the legend\n",
    "plt.legend(bbox_to_anchor=(1.0, 1.0))\n",
    "\n",
    "plt.show()"
   ]
  },
  {
   "cell_type": "markdown",
   "id": "eca3a528",
   "metadata": {},
   "source": [
    "Now the varying degrees of natural and non-natural cover can be much more clearly seen between countries. \n",
    "\n",
    "It is interesting to observe how high the percent coverage of cropland can be for some countries. Somewhat predictably, tinier nations in terms of land area tend to have higher percentages of artificial surface, though there are some exceptions. Iceland is the only nation to have no non-natural surface represented. "
   ]
  },
  {
   "cell_type": "markdown",
   "id": "84d9eab2",
   "metadata": {},
   "source": [
    "#### *Land Cover Change*"
   ]
  },
  {
   "cell_type": "markdown",
   "id": "e618bb0e",
   "metadata": {},
   "source": [
    "Trends over time can give insight into the relationship between land cover and biodiversity loss. This project has looked at the trends in the Red List Index for each country since 2001. Trend data also exists in the Land Cover dataset, in the form of past values from set years. Specifically, there is data for the years 1992, 2004, 2015, 2018, and 2019.\n",
    "\n",
    "Therefore it would be of interest to view a similar lattice grid plotting changes over time in land cover for each country.\n",
    "\n",
    "Such a grid of plots would get very hard to read if examining all land cover types, so again, aggregate data will be essential. Two versions will be plotted here:\n",
    "\n",
    "1. One showing the four most significant land cover types: Artificial Surfaces, Cropland, Tree Cover, and Grassland\n",
    "2. One showing the two aggregate categories: Natural and Non-natural land cover types\n",
    "\n",
    "The land cover class choices in the first of these are based on the fact that it could be seen earlier that Tree Cover and Grassland were consistently the biggest natural land cover classes across nations.\n",
    "\n",
    "Before proceeding to plot these two lattice graphs, a custom colour palette will make visual distinctions clearer and more intuitive."
   ]
  },
  {
   "cell_type": "code",
   "execution_count": null,
   "id": "823f0c55",
   "metadata": {},
   "outputs": [],
   "source": [
    "# Create lists of the land cover classes that will be used in the following two facet grids\n",
    "land_cover_main_types = ['Artificial surfaces', 'Cropland', 'Grassland', 'Tree cover']\n",
    "land_cover_agg_types = ['Natural', 'Non-natural']\n",
    "\n",
    "# Create custom colour lists to correspond with the above land cover class lists\n",
    "land_cover_main_colors = ['#404040', '#ff7f0e','#4dac26','#008837']\n",
    "land_cover_agg_colors = ['#66bd63', '#f46d43']\n",
    "\n",
    "# Package them up together into seaborn palette objects\n",
    "pal_lcc_main = dict(zip(land_cover_main_types, \n",
    "                        sns.color_palette(land_cover_main_colors, n_colors=len(land_cover_main_types))))\n",
    "pal_lcc_agg = dict(zip(land_cover_agg_types, \n",
    "                        sns.color_palette(land_cover_agg_colors, n_colors=len(land_cover_agg_types))))"
   ]
  },
  {
   "cell_type": "markdown",
   "id": "a8beb337",
   "metadata": {},
   "source": [
    "***Plot 1. Most Significant Cover Classes***"
   ]
  },
  {
   "cell_type": "markdown",
   "id": "52def852",
   "metadata": {},
   "source": [
    "For the first plot, the original land cover dataset should be the basis, as all the years are needed. A copy of it should be made which restricts the records to those describing the chosen four main land cover classes."
   ]
  },
  {
   "cell_type": "code",
   "execution_count": null,
   "id": "58e18979",
   "metadata": {
    "scrolled": false
   },
   "outputs": [],
   "source": [
    "# Create a new dataframe that includes the shortlist of main land cover classes\n",
    "land_cover_main = land_cover.loc[land_cover['Land cover class'].isin(land_cover_main_types)]\n",
    "\n",
    "# Set style and size\n",
    "sns.set_style(\"darkgrid\")\n",
    "plt.rcParams['figure.dpi'] = 180\n",
    "\n",
    "# Create a facetGrid of relplots, one per country\n",
    "g = sns.relplot(data=land_cover_main, kind=\"line\", x=\"Year\", y=\"Value\", hue=\"Land cover class\",\n",
    "                col=\"Country\", col_wrap=6, col_order=country_names, ci=None, height=2, palette=pal_lcc_main)\n",
    "g.figure.subplots_adjust(wspace=0.25)\n",
    "\n",
    "# Set overall title\n",
    "g.fig.suptitle('Main Land Cover Class Changes Over Time', y=1.02)\n",
    "\n",
    "# Set subplot titles and labels\n",
    "g.set_titles(col_template=\"{col_name}\")\n",
    "g.set_axis_labels(None, \"% Land Covered\")\n",
    "\n",
    "# Set subplot tickmarks and labels\n",
    "g.set(xlim=(1992, 2019), ylim=(0, 80), xticks=[1992,2019])\n",
    "for subplot in g.axes.flatten():\n",
    "    subplot.tick_params(labelbottom=True)\n",
    "\n",
    "plt.show()"
   ]
  },
  {
   "cell_type": "markdown",
   "id": "6e4404c0",
   "metadata": {},
   "source": [
    "A few observations from this data are that:\n",
    "- Cropland never grows at the expense of artificial surface, but sometimes artificial surface appears to grow at the expense of cropland (Belgium, Netherlands, Japan, and others). Perhaps this is made possible by greater global food transportation and trade networks, or improved efficiency in farming. In any case, such reductions in cropland do not indicate improved conditions for wildlife.\n",
    "- In some cases, cropland falls while tree cover or grassland improves, but this is relatively rare (Costa Rica, Poland, Lithuania, Greece, Turkey, and Portugal). "
   ]
  },
  {
   "cell_type": "markdown",
   "id": "6951a973",
   "metadata": {},
   "source": [
    "***Plot 2. Natural vs Non-Natural Cover Class Types***"
   ]
  },
  {
   "cell_type": "markdown",
   "id": "c2393d8c",
   "metadata": {},
   "source": [
    "For the second plot, natural and non-natural land classes will be combined. This should expose actual improvements or deteriorating conditions for wildlife more starkly.\n",
    "\n",
    "First, however, a new dataframe must be constructed that aggregates both sets of data for all years."
   ]
  },
  {
   "cell_type": "code",
   "execution_count": null,
   "id": "330ad6ab",
   "metadata": {
    "scrolled": true
   },
   "outputs": [],
   "source": [
    "# Create a dataframe that stores the year-to-year combined coverage percentages of natural \n",
    "# and non-natural land cover class types\n",
    "\n",
    "# Get the records for each type of land cover class (natural and non-natural) into two separate dataframes\n",
    "land_cover_natural = land_cover.loc[land_cover['Land cover class'].isin(natural_covers)]\n",
    "land_cover_nonnatural = land_cover.loc[~land_cover['Land cover class'].isin(natural_covers)]\n",
    "\n",
    "# Group each dataframe by country and year, and sum their totals in each grouping to create aggregate data\n",
    "land_cover_natural = land_cover_natural.groupby(['Country','Year'], as_index=False).agg(\n",
    "    {'Land cover class': lambda x: 'Natural', 'Value' : 'sum'})\n",
    "land_cover_nonnatural = land_cover_nonnatural.groupby(['Country','Year'], as_index=False).agg(\n",
    "    {'Land cover class': lambda x: 'Non-natural', 'Value' : 'sum'})\n",
    "\n",
    "# Combine the two dataframes into a single dataframe that contains aggregate data of both\n",
    "land_cover_agg = pd.concat([land_cover_natural, land_cover_nonnatural], ignore_index=True)\n",
    "land_cover_agg.sort_values(by=['Country', 'Year'], inplace=True, ignore_index=True)\n",
    "land_cover_agg.head()"
   ]
  },
  {
   "cell_type": "markdown",
   "id": "0462c548",
   "metadata": {},
   "source": [
    "The dataframe can now be plotted."
   ]
  },
  {
   "cell_type": "code",
   "execution_count": null,
   "id": "24fcf405",
   "metadata": {},
   "outputs": [],
   "source": [
    "# Reproduce the above lattice plot, but this time with the aggregated data\n",
    "\n",
    "# Set style and size\n",
    "sns.set_style(\"darkgrid\")\n",
    "plt.rcParams['figure.dpi'] = 180\n",
    "\n",
    "# Create a facetGrid of relplots, one per country\n",
    "g = sns.relplot(data=land_cover_agg, kind=\"line\", x=\"Year\", y=\"Value\", hue=\"Land cover class\",\n",
    "                col=\"Country\", col_wrap=6, col_order=country_names, ci=None, height=2, palette=pal_lcc_agg)\n",
    "g.figure.subplots_adjust(wspace=0.25)\n",
    "\n",
    "# Set overall title\n",
    "g.fig.suptitle('Natural vs Non-Natural Land Cover Class Changes Over Time', y=1.02)\n",
    "\n",
    "# Set subplot titles, labels, and tick labels\n",
    "g.set_titles(col_template=\"{col_name}\")\n",
    "g.set_axis_labels(None, \"% Land Covered\")\n",
    "\n",
    "# Set subplot tickmarks and labels\n",
    "g.set(xlim=(1992, 2019), ylim=(0, 100), xticks=[1992,2004, 2019])\n",
    "for subplot in g.axes.flatten():\n",
    "    subplot.tick_params(labelbottom=True)\n",
    "\n",
    "plt.show()"
   ]
  },
  {
   "cell_type": "markdown",
   "id": "fca0e794",
   "metadata": {},
   "source": [
    "It is not surprising to see an inverse relationship between the lines, as the combined total of natural and non-natural types is always 100%. The benefit of this plot, however, is to view the varying balances of natural and non-natural land between countries, and who is improving that balance, and who is worsening it.\n",
    "\n",
    "### Summary Observations of the Land Cover Dataset\n",
    "\n",
    "Some interesting observations are:\n",
    "- Some countries have a poverty of natural land cover. Denmark, Hungary, and Belgium are the most extreme, though quite a number have more non-natural than natural.\n",
    "- Only Costa Rica, Greece, and Lithuania (and to a lesser degree Poland and possibly Turkey), have actually increased their  natural land cover. \n",
    "- Some countries have been on an extreme course towards diminishing natural land cover: Korea is the most dramatic, but many others also have downward trajectories for natural land cover."
   ]
  },
  {
   "cell_type": "markdown",
   "id": "8f7f3167",
   "metadata": {},
   "source": [
    "---\n",
    "\n",
    "## Protected Areas <a id=\"PA\"></a>"
   ]
  },
  {
   "cell_type": "markdown",
   "id": "bbe8aab0",
   "metadata": {},
   "source": [
    "### About the Dataset\n",
    "\n",
    "The [Protected Areas](https://stats.oecd.org/Index.aspx?DataSetCode=PROTECTED_AREAS) dataset is the final dataset to be looked at in this project. It is another measure of land cover, but in this case it only measures one type of land cover, nationally designated Protected Area.\n",
    "\n",
    "Protected Area can be designated as protected for conservational or ecological reasons, but also for cultural ones. \n",
    "\n",
    "The dataset contains percentage coverage of the total land area for each country. \n",
    "\n",
    "It contains annual data from 2021 back to 2000, before which data was recorded either every five or ten years, as far back as 1950.\n",
    "\n",
    "\n",
    "### Limitations of the Dataset\n",
    "\n",
    "Protected land is subject to a similar limitation as the Land Cover dataset, in that land designated as Protected does not guarantee that it is land good for biodiversity or wildlife. While it has a much higher chance of being so, it is up to each country as to how to enforce the protected status of the land, and how to interpret it. Unfortunately, a very large portion of the world's Protected Areas have been found to in fact be under damaging pressures from human activity [[1]], [[2]]. \n",
    "\n",
    "\n",
    "### Applications for this Project\n",
    "\n",
    "The Protected Areas dataset provides a supplement to the Land Cover dataset as an alternative statistic that measures land use. It may account for some of the weaknesses or limitations of that dataset, or at least provide an additional perspective, when it comes to comparing land cover to biodiversity loss between countries.\n",
    "\n",
    "[1]: https://stats.oecd.org/Index.aspx?DataSetCode=PROTECTED_AREAS \"OECD Protected Areas Dataset Notes\"\n",
    "[2]: https://www.newscientist.com/article/2169186-a-third-of-protected-nature-zones-are-quietly-being-ruined/ \"The New Scientist - A Third of Protected Nature Zones...\""
   ]
  },
  {
   "cell_type": "markdown",
   "id": "4029e2cb",
   "metadata": {},
   "source": [
    "### Reading and Refining the Data"
   ]
  },
  {
   "cell_type": "code",
   "execution_count": null,
   "id": "8ea6f8c0",
   "metadata": {},
   "outputs": [],
   "source": [
    "protected_areas = pd.read_csv('Data/protected_areas.csv')\n",
    "protected_areas.head()"
   ]
  },
  {
   "cell_type": "markdown",
   "id": "79160c6f",
   "metadata": {},
   "source": [
    "To gain understanding of the types of measures and the year range in the data, view the unique values:"
   ]
  },
  {
   "cell_type": "code",
   "execution_count": null,
   "id": "bfc6e122",
   "metadata": {},
   "outputs": [],
   "source": [
    "print(protected_areas['Designation'].unique())\n",
    "print(protected_areas['Domain'].unique())\n",
    "print(protected_areas['Measure'].unique())\n",
    "print(protected_areas['Calculation method'].unique())\n",
    "print(protected_areas['Year'].unique())"
   ]
  },
  {
   "cell_type": "markdown",
   "id": "6e3eb56e",
   "metadata": {},
   "source": [
    "There are generally only single values for these different columns. There is only one measure type, which is percent of the land. The data does not appear to require filtering, apart from restricting the country set to those being used in this project."
   ]
  },
  {
   "cell_type": "code",
   "execution_count": null,
   "id": "c866cec2",
   "metadata": {},
   "outputs": [],
   "source": [
    "# Update the dataframe to restrict records to those measuring focus countries\n",
    "protected_areas = protected_areas.loc[protected_areas['COU'].isin(country_codes)]\n",
    "\n",
    "# Reset the index\n",
    "protected_areas = protected_areas.reset_index(drop=True)\n",
    "\n",
    "# Confirm only the desired records exist\n",
    "print(protected_areas['Country'].unique())\n",
    "print(len(protected_areas['Country'].unique()))"
   ]
  },
  {
   "cell_type": "markdown",
   "id": "2c5b3f41",
   "metadata": {},
   "source": [
    "As it turns out, Turkey is missing from this dataset. That means there will be one country missing from this statistic's analysis."
   ]
  },
  {
   "cell_type": "markdown",
   "id": "2fcb1316",
   "metadata": {},
   "source": [
    "### Checking the Data for Completion\n",
    "\n",
    "A count of records in each year will quickly expose any years missing records for countries. This project will only deal with the most recent year's data for this dataset. This can also be checked for completeness of country records (minus Turkey)."
   ]
  },
  {
   "cell_type": "code",
   "execution_count": null,
   "id": "1f34a836",
   "metadata": {
    "scrolled": true
   },
   "outputs": [],
   "source": [
    "# Check the count of records for each year\n",
    "protected_areas.groupby(['Year']).count()"
   ]
  },
  {
   "cell_type": "markdown",
   "id": "a4c0f95f",
   "metadata": {},
   "source": [
    "As count() also checks for NaN values, this shows that each year contains full records of data for all 36 countries."
   ]
  },
  {
   "cell_type": "markdown",
   "id": "a1658f35",
   "metadata": {},
   "source": [
    "### Visualising the Data\n",
    "\n",
    "The percentages of land that are protected in each country can be plotted as a simple bar graph, to give a sense of comparison between the countries.\n",
    "\n",
    "For simplicity's sake, the most recent year alone can be used."
   ]
  },
  {
   "cell_type": "code",
   "execution_count": null,
   "id": "519cf0e8",
   "metadata": {
    "scrolled": true
   },
   "outputs": [],
   "source": [
    "# Create a dataframe of the most recent year's data\n",
    "protected_areas_recent = protected_areas.loc[protected_areas['Year'] == protected_areas['Year'].max()]\n",
    "protected_areas_recent.head()"
   ]
  },
  {
   "cell_type": "code",
   "execution_count": null,
   "id": "b2ce49a4",
   "metadata": {},
   "outputs": [],
   "source": [
    "# Plot the most recent year's protected area percentages on a barplot\n",
    "\n",
    "# Set the style and size\n",
    "sns.set_style(\"whitegrid\", {\"xtick.bottom\": True})\n",
    "plt.rcParams['figure.dpi'] = 150\n",
    "plt.figure(figsize=(12,5))\n",
    "\n",
    "# Create a barplot\n",
    "g = sns.barplot(data=protected_areas_recent , x='Country', y='Value', order=country_names)\n",
    "g.set(ylim=(0,60))\n",
    "\n",
    "# Set title and labels\n",
    "g.set_title('Protected Area Percentage Coverage', pad=15)\n",
    "g.set_xlabel(None)\n",
    "g.set_ylabel('Percent Coverage of Land',size=11)\n",
    "g.set_xticks(range(len(protected_areas_recent)))\n",
    "g.set_xticklabels(g.get_xticklabels(), rotation=70, horizontalalignment='right', size=9)\n",
    "\n",
    "plt.show()"
   ]
  },
  {
   "cell_type": "markdown",
   "id": "3f9b0c2b",
   "metadata": {},
   "source": [
    "### Summary Observations of the Protected Areas Dataset\n",
    "\n",
    "Most countries seem to hover between 10-20%, with a substantial few between 20-40%. A clear outlier is Luxembourg, with a very high percentage of protected land at over 50%."
   ]
  },
  {
   "cell_type": "markdown",
   "id": "d85f233b",
   "metadata": {},
   "source": [
    "---\n",
    "\n",
    "# Research Aims Analysis <a id=\"Research-Analysis\"></a>"
   ]
  },
  {
   "cell_type": "markdown",
   "id": "453f7b43",
   "metadata": {},
   "source": [
    "Now that the Exploratory Data Analysis is complete, the relationships between these statistics may be explored, and the research questions may be addressed. To review, the specific questions this report is seeking to explore were: \n",
    "\n",
    "> **[Q1](#Q1): Do the countries with the highest percentages of threatened species have the least percentage of natural land cover?**\n",
    ">\n",
    "> **[Q2](#Q2): Is there any relationship between growth of human developed land and rise in species endangerment rates over recent decades?**\n",
    ">\n",
    "> **[Q3](#Q3): And, if such a correlation cannot be determined, is designation of protected areas within a country a better indicator for improved species endangerment rates?**\n",
    "\n",
    "\n",
    "To investigate these, it is time to make some comparisons between the data in the above datasets. \n",
    "\n",
    "For the first two questions, the Red List Index and Threatened Species data can be compared to the Land Cover data across countries. Because the Red List Index data and the Threatened Species data diverged in how they ranked the countries, and the Red List Data was concluded to be more probably reliable, the Red List Index will be given precedence in this investigation, although the Threatened Species dataset will be used supplementally.\n",
    "\n",
    "### Q1: Species Endangerment vs Land Cover - Most Recent Data <a id=\"Q1\"></a>\n",
    "\n",
    "The first question requires a snapshot of current data. Is there a correlation currently between land cover ratios and rates of species endangerment? For this, the above datasets should be pared down to the most recent year's results. Then it will be possible to plot the two statistics against each other for all countries. The ideal plot type for this is the scatterplot. Any correlation between the two statistics should produce clustering in the plot.\n",
    "\n",
    "#### Red List Index vs Non-Natural Land Cover\n",
    "\n",
    "Before plotting these two sets of data against each other, a new dataframe must be created that combines them. It should also filter the results to the most recent year that applies to both sets, which is 2019."
   ]
  },
  {
   "cell_type": "code",
   "execution_count": null,
   "id": "f527d78b",
   "metadata": {
    "scrolled": true
   },
   "outputs": [],
   "source": [
    "# Create a dataframe with columns for Red List Index and Land Cover, using the latest year's values\n",
    "\n",
    "# First, get pared down dataframes for the Red List Index and Land Cover values in 2019\n",
    "rli_2019 = red_list_index[['Country','Value']].loc[red_list_index['Year'] == 2019]\n",
    "land_cover_2019 = land_cover_agg[['Country', 'Value']].loc[(land_cover_agg['Year'] == 2019) & \n",
    "                                                           (land_cover_agg['Land cover class'] == 'Non-natural')]\n",
    "\n",
    "# Rename their columns called 'Value' to avoid confusion after merging\n",
    "rli_2019 = rli_2019.rename(columns={'Value': 'RLI'})\n",
    "land_cover_2019 = land_cover_2019.rename(columns={'Value': 'Land Cover - Non-natural'})\n",
    "\n",
    "# Then merge them into a single new dataframe for plotting\n",
    "rli_vs_land_cover = rli_2019.merge(land_cover_2019[['Country', 'Land Cover - Non-natural']], on='Country', how='left')\n",
    "rli_vs_land_cover"
   ]
  },
  {
   "cell_type": "markdown",
   "id": "52933bf5",
   "metadata": {},
   "source": [
    "A scatterplot can now be drawn:"
   ]
  },
  {
   "cell_type": "code",
   "execution_count": null,
   "id": "f006f994",
   "metadata": {},
   "outputs": [],
   "source": [
    "# Plot RLI vs Land Cover as a scatterplot\n",
    "\n",
    "# Set the style and size\n",
    "sns.set_style('whitegrid')\n",
    "plt.rcParams['figure.dpi'] = 100\n",
    "\n",
    "# Create the scatterplot\n",
    "g = sns.scatterplot(data=rli_vs_land_cover, x=\"Land Cover - Non-natural\", y=\"RLI\")\n",
    "g.set(ylim=(0.6,1), xlim=(0,80))\n",
    "\n",
    "# Set title and labels\n",
    "g.set_title('Red List Index vs Non-Natural Land Cover', pad=15)\n",
    "g.set(xlabel='Percentage of Land Covered by Human Development', ylabel='Red List Index')\n",
    "plt.show()"
   ]
  },
  {
   "cell_type": "markdown",
   "id": "00a2ebfd",
   "metadata": {},
   "source": [
    "Correlation between the two statistics would appear as clear clustering between the dots, generally along a line. As such, no clustering can be seen, as the dots are quite widely and randomly spread out. Some countries with high percentages of non-natural land cover have high RLIs, and vice versa. And those with high RLI values are spread out quite evenly across the percentages of land cover. \n",
    "\n",
    "There is no indication of either a direct or inverse relationship between land cover and Red List Index. \n",
    "\n",
    "This result may be surprising, given that it is widely understood that diminishing habitats leads to species loss. However, there are a plethora of limitations and caveats associated with both the datasets. It is also possible that the small sample size of countries, which overrepresent one region, make it harder to see a correlation in the data. \n",
    "\n",
    "Before moving on, this is a good opportunity to also examine the other dataset, Threatened Species. While the Threatened Species dataset was likely less accurate than the Red List Index, given the interesting results of this plot, adding some perspective from another dataset could be beneficial."
   ]
  },
  {
   "cell_type": "markdown",
   "id": "70b6557e",
   "metadata": {},
   "source": [
    "#### Threatened Species vs Land Cover\n",
    "\n",
    "An identical plot using the Threatened Species dataset can be created. "
   ]
  },
  {
   "cell_type": "code",
   "execution_count": null,
   "id": "194ef7ac",
   "metadata": {
    "scrolled": true
   },
   "outputs": [],
   "source": [
    "# Create a dataframe with columns for Threatened Species, using the latest year's values\n",
    "\n",
    "# Rename columns called 'Value' to avoid confusion after merging\n",
    "thrsp = total_threatened_percents\n",
    "thrsp = thrsp.rename(columns={'Value': 'Threatened'})\n",
    "\n",
    "# Then merge them into a single new dataframe for plotting\n",
    "thrsp_vs_land_cover = thrsp.merge(land_cover_2019[['Country', 'Land Cover - Non-natural']], \n",
    "                                                      on='Country', how='left')\n",
    "thrsp_vs_land_cover"
   ]
  },
  {
   "cell_type": "code",
   "execution_count": null,
   "id": "81041fed",
   "metadata": {},
   "outputs": [],
   "source": [
    "# Plot Threatened Species vs Land Cover\n",
    "\n",
    "# Set style and size\n",
    "sns.set_style('whitegrid')\n",
    "plt.rcParams['figure.dpi'] = 100\n",
    "\n",
    "# Create the scatterplot\n",
    "g = sns.scatterplot(data=thrsp_vs_land_cover, x=\"Land Cover - Non-natural\", y=\"Threatened\")\n",
    "g.set(ylim=(0,40), xlim=(0,80))\n",
    "\n",
    "# Set title and labels\n",
    "g.set_title('Threatened Species vs Non-Natural Land Cover', pad=15)\n",
    "g.set(xlabel='Percentage of Land Covered by Human Development', ylabel='Percent of Species Threatened')\n",
    "\n",
    "plt.show()"
   ]
  },
  {
   "cell_type": "markdown",
   "id": "cceef885",
   "metadata": {},
   "source": [
    "The results of this plot do not alter the previous conclusion: there appears to be little correlation between land cover ratios and rates of threatened species. There are low rates of threatened species across nearly all ranges of land cover percentage. And vice versa, there are high rates of threatened species across the ranges as well. Perhaps it is noteworthy that at the very highest percentages of non-natural land cover, there are no very low threatened species rates, but there are too few samples to conclude this. \n",
    "\n",
    "\n",
    "#### Conclusions for  Question 1\n",
    "\n",
    "There is no discernable correlation in the sample set between species endangerment rates and human-developed land cover ratios, for the most recent year of data.\n",
    "\n",
    "While this was not the most expected result, it can be seen that this investigation had severe limitations that could be masking an existing correlation. First, the sample set was small and limited mostly to European countries. These countries have had fewer intact wild ecosystems for centuries, and they may possess smaller total species counts, compared to other regions of the world. These facts could lead to relatively high RLI scores compared to land cover ratios.\n",
    "\n",
    "Secondly, as was noted in the [Land Cover section](#LC \"Jump to Land Cover section\"), natural land cover does not equate to intact or protected ecosystems. Natural land cover can, and typically is, cut into small pieces by cropland or infrastructure such as roads. This fact is masked in this comparison, with no discernable difference between countries with large intact natural habitats, and countries who have virtually no untouched lands.\n",
    "\n",
    "Other considerations are that there are many other factors that affect the health of wildlife besides habitat encroachment and loss, and further, species loss might lag behind habitat contraction. Climate change, pollution, pesticide usage, invasive introduced species, hunting, and other damaging human behaviours also impact species populations. Given these, any correlation between land cover ratios and species endangerment rates might be quite wide, and only visible over a much wider sample set, or when controlled for other factors.\n",
    "\n",
    "It is beyond the scope of this project to investigate these issues. However, one factor that can be looked at is the issue of protected land, which will be investigated below for [Question 3](#Q3 \"Jump to Question 3\")."
   ]
  },
  {
   "cell_type": "markdown",
   "id": "e3b357d3",
   "metadata": {},
   "source": [
    "### Q2: Species Endangerment vs Land Cover - Trends over Time <a id=\"Q2\"></a>\n",
    "\n",
    "The second question of this project is to investigate whether trends in growth of human-developed lands correlate with declining trends in species populations.  \n",
    "\n",
    "For this, year-on-year data of the Red List Index can be plotted against trend data for Land Cover. These two statistics cover different years, but there is substantial overlap. \n",
    "\n",
    "As this is a large amount of information to convey in a single plot, a lattice grid of plots will be used, as was done previously for these two statistics.\n",
    "\n",
    "#### Red List Index vs Land Cover Change over Time\n",
    "\n",
    "Before plotting, a dataframe must be created that merges these two datasets. It will also need to be restructured so that the hue of each subplot can refer to the relevant statistic.\n",
    "\n",
    "Because both RLI and Land Cover percentage will be plotted on the same y-axis, their values will need to be normalised, with the land cover percentage converted to values between 0 and 1."
   ]
  },
  {
   "cell_type": "code",
   "execution_count": null,
   "id": "e1a63e82",
   "metadata": {},
   "outputs": [],
   "source": [
    "# Create a dataframe combining RLI data with Land Cover - Non-Natural (LCC-NN) data\n",
    "\n",
    "# First, get pared down dataframes for the Red List Index and Land Cover values in 2019\n",
    "rli_all = red_list_index[['Country','Year','Value']]\n",
    "land_cover_all = land_cover_agg[['Country', 'Year', 'Value']].loc[land_cover_agg['Land cover class'] == 'Non-natural']\n",
    "\n",
    "# Add a column to each with a 'Variable' that specifies the statistic type\n",
    "rli_all.insert(2, 'Variable', 'RLI')\n",
    "land_cover_all.insert(2, 'Variable', 'LCC-NN')\n",
    "\n",
    "# Normalise the values of the land cover percentages so that they can be plotted alongside RLI\n",
    "land_cover_all.Value = land_cover_all.Value/100\n",
    "\n",
    "# Merge the two datasets with an outer join to include all records\n",
    "rli_vs_lcc_all = rli_all.merge(land_cover_all[['Country', 'Year', 'Variable', 'Value']], how='outer', sort=True)\n",
    "rli_vs_lcc_all.head()"
   ]
  },
  {
   "cell_type": "markdown",
   "id": "fdc69601",
   "metadata": {},
   "source": [
    "Now the lattice of line plots can be drawn."
   ]
  },
  {
   "cell_type": "code",
   "execution_count": null,
   "id": "1a97ca2e",
   "metadata": {},
   "outputs": [],
   "source": [
    "# Make a lattice grid of country plots\n",
    "\n",
    "# Set style and size\n",
    "sns.set_style('darkgrid')\n",
    "plt.rcParams['figure.dpi'] = 180\n",
    "\n",
    "# Create a facetGrid of relplots, one for each country\n",
    "g = sns.relplot(data=rli_vs_lcc_all, kind='line', x='Year', y='Value', col='Country', hue='Variable',\n",
    "            col_wrap=6, col_order=country_names, ci=None, height=2, legend='brief');\n",
    "g.figure.subplots_adjust(wspace=0.3)\n",
    "\n",
    "# Set overall title\n",
    "g.fig.suptitle('Red List Index vs Non-Natural Land Cover, Over Time', y=1.02)\n",
    "\n",
    "# Set subplot titles and labels\n",
    "g.set_titles(col_template='{col_name}')\n",
    "g.set_axis_labels('','')\n",
    "\n",
    "# Set subplot tickmarks and labels\n",
    "x_ticks = [1992, 2001, 2011, 2021]\n",
    "g.set(xlim=(1992, 2021), ylim=(0, 1), xticks=x_ticks)\n",
    "for subplot in g.axes.flatten():\n",
    "    subplot.set_xticklabels(x_ticks, rotation=70, horizontalalignment='right', size=9)\n",
    "\n",
    "plt.show()"
   ]
  },
  {
   "cell_type": "markdown",
   "id": "65774ce2",
   "metadata": {},
   "source": [
    "At this point it comes as no surprise to see no dramatically consistent relationship between the two lines. For countries whose non-natural land cover increased, the RLI often did not fall, and many countries had falling RLI scores with little change in non-natural land cover. There are a few instances of the expected relationship of rising non-natural land cover paired with falling Red List Index, but it is hard to draw any conclusions from this visualisation. No clear or dramatic patterns appear.\n",
    "\n",
    "#### Conclusions for Question 2\n",
    "\n",
    "There is no clear correlation between changing rates of land cover ratios and countries' species endangerment rates. As discussed at the end of the previous question, there are many reasons this could be, key among which is the fact that high natural land cover class coverage does not necessarily equate to protected natural ecosystems."
   ]
  },
  {
   "cell_type": "markdown",
   "id": "f52b3fe6",
   "metadata": {},
   "source": [
    "### Q3: Impact of Protected Area Land Cover on Species Endangerment <a id=\"Q3\"></a>\n",
    "\n",
    "The third question asks if designation of Protected Areas has any correlation with a country's biodiversity health. \n",
    "\n",
    "The Protected Land database is an alternative way of looking at land use. Protected land does not necessarily equate to intact wild land, but unlike the land cover classes in the Land Cover database, protected land is deliberately designated by national governments and is more likely to be actively protected and monitored.\n",
    "\n",
    "It has been shown that there is little correlation in the sample set between the Red List Index and the ratio of non-natural land coverage. Now it can be examined whether there is any correlation between Red List Index and Protected Area coverage.\n",
    "\n",
    "#### Red List Index vs Preserved Areas\n",
    "\n",
    "The data for Protected Areas exists for many years, as does the Red List Index. However, to get a snapshot of the relationship between these two statistics, a scatterplot of the most recent year's data will provide a quick insight into whether there are any correlations.\n",
    "\n",
    "A dataframe must be created which merges the statistics of both datasets."
   ]
  },
  {
   "cell_type": "code",
   "execution_count": null,
   "id": "f8dce4c5",
   "metadata": {
    "scrolled": true
   },
   "outputs": [],
   "source": [
    "# Create a dataframe that merges RLI 2019 with Protected Areas data for 2019\n",
    "\n",
    "# First, get a pared down dataframe for the Protected Areas values in 2019\n",
    "protected_areas_2019 = protected_areas[['Country','Value']].loc[protected_areas['Year'] == 2019]\n",
    "\n",
    "# Rename the column called 'Value' to avoid confusion after merging\n",
    "protected_areas_2019 = protected_areas_2019.rename(columns={'Value': 'Protected Area Percent'})\n",
    "\n",
    "# Merge the two dataframes into a single new dataframe for plotting\n",
    "rli_vs_protected = rli_2019.merge(protected_areas_2019[['Country', 'Protected Area Percent']], on='Country', how='left')\n",
    "rli_vs_protected"
   ]
  },
  {
   "cell_type": "markdown",
   "id": "3e6b2dc7",
   "metadata": {},
   "source": [
    "Now create a scatterplot of these two statistics for each country:"
   ]
  },
  {
   "cell_type": "code",
   "execution_count": null,
   "id": "b8f13873",
   "metadata": {},
   "outputs": [],
   "source": [
    "# Plot RLI vs Protected Areas Scatterplot\n",
    "\n",
    "# Set style and size\n",
    "sns.set_style('whitegrid')\n",
    "plt.rcParams['figure.dpi'] = 100\n",
    "\n",
    "# Create the scatterplot\n",
    "g = sns.scatterplot(data=rli_vs_protected, x=\"Protected Area Percent\", y=\"RLI\")\n",
    "g.set(ylim=(0.6,1), xlim=(0,70))\n",
    "\n",
    "# Set title and labels\n",
    "g.set_title('Red List Index vs Protected Areas', pad=15)\n",
    "g.set(xlabel='Percentage of Land Designated as Protected Area', ylabel='Red List Index')\n",
    "\n",
    "plt.show()"
   ]
  },
  {
   "cell_type": "markdown",
   "id": "7f52bbb8",
   "metadata": {},
   "source": [
    "There appears to be some potential positive correlation in the data this time, though it is a little difficult to see. There is a clear outlier, which is the country with the lowest RLI (New Zealand), but apart from this, there are no countries with high percentages of protected land and low RLIs. \n",
    "\n",
    "\n",
    "#### Conclusions for Question 3\n",
    "\n",
    "The simple comparison between Red List Index and Protected Area percentage for the countries in this study did not give very conclusive results. There may be a hint of a pattern; however, a larger dataset of more countries would possibly show more correlation.\n",
    "\n",
    "On the other hand, it may be that there is not a strong relationship between designation of Protected Land and species endangerment rates. This could be because designation of Protected Land does not necessarily entail *well* protected land, i.e. land which contains sustained, intact natural ecosystems, with limited human interference. Indeed, much of the world's protected land is failing to protect nature, as humans continue to encroach upon it despite its status. [[1]]\n",
    "\n",
    "Therefore, as with the other investigations for this project, while a small sample set may be interfering with a clear view of the relationships, it is also possible that the statistics themselves are too loosely defined to be used as a metric to indicate pressures on wildlife.\n",
    "\n",
    "[1]: https://www.newscientist.com/article/2169186-a-third-of-protected-nature-zones-are-quietly-being-ruined/ \"The New Scientist - A Third of Protected Nature Zones...\""
   ]
  },
  {
   "cell_type": "markdown",
   "id": "75a71497",
   "metadata": {},
   "source": [
    "---\n",
    "\n",
    "# Conclusion and Critical Evaluation <a id=\"Conclusions\"></a>"
   ]
  },
  {
   "cell_type": "markdown",
   "id": "4a3e0d70",
   "metadata": {},
   "source": [
    "This project aimed to explore the data on threatened species and land cover among countries, and to compare a sample set of countries to one another. It also aimed to investigate whether there were any relationships in the data between species endangerment rates and either land cover ratios or designation of protected land.\n",
    "\n",
    "A clear relationship between these measurements was not found in the sample set. Neither Red List Index scores nor Threatened Species rates had a clear correlation with land cover ratios, either in a snapshot scatterplot of most recent year's data, or in trend data over recent decades, for the sample set. \n",
    "\n",
    "Additionally, while there may have been a slight correlation between Protected Areas data and Red List Index scores, the relationship was not clear, potentially due to a small sample size.\n",
    "\n",
    "It is likely that a small sample set, which overrepresented a single region, made it difficult to see the relationship between these statistics clearly, and this is discussed in the section below. However, there is also a very real possibility that the statistics which have been gathered on land cover ratios and protected land are themselves problematic when used alone as indicators of pressures on wildlife. These statistics fail to differentiate the quality of the natural and protected land cover areas, which can range dramatically.\n",
    "\n",
    "Land cover, for instance, initially seemed to be an excellent statistic for measuring the pressures on wildlife, or lack thereof, in a country. The OECD even states in its notes for this dataset that, \"Loss of natural and semi-natural vegetated land is presented as a proxy for pressures on biodiversity and ecosystems\".[[1]] However, the data for land cover ratios is taken from satellite imaging, and as such it lacks the ability to ascertain whether natural cover types possess intact or healthy ecosystems. In fact, this is a topic of newer research, as there currently is no very good way to measure the \"intactness\" of natural land. [[2]] The significance of this for reviewing country performance is that there is no real way to know whether two countries that are listed as having the same percentage of natural cover are anything like one another in terms of the quality of their natural ecosystems. In this study, this may explain in part why a correlation between land cover and Red List Index scores was so erratic.\n",
    "\n",
    "Similar issues exist for Protected Areas. While these land areas are more intentionally created than the natural land cover classes in the Land Cover database, they too can range in quality, and recent research has suggested that as much as a third of the world's protected land is in fact being heavily damaged by human activity.[[3]]\n",
    "\n",
    "\n",
    "### Potential Flaws in Approach\n",
    "\n",
    "Despite the problems identified above with the use of the land cover statistics, there were also several choices made in this study that may have undermined the aims of the analysis. \n",
    "\n",
    "**The country sample size was too small for certain analyses.**\n",
    "\n",
    "A small sample size was chosen because it was of interest to this study to be able to view and compare the performance of individual countries, and this would have been impossible with a very large number of countries. Data visualisations would have become impossible to read or interpret. \n",
    "\n",
    "It was also chosen on the basis of one of the major datasets only including those countries.\n",
    "\n",
    "While it was useful and interesting in the Exploratory Data Analysis to be able to focus on a subset of countries and compare them, it was not a good choice for the investigation of the research questions. In searching for patterns and correlations in data, the bigger the sample, the better. In fact, using the entire population as the sample set would have been ideal, and more insights likely would have been gained.\n",
    "\n",
    "**The country sample set was not randomized, and it overrepresented a single region.**\n",
    "\n",
    "Given the differing ecological histories, levels of biodiversity, regional pressures, and policy approaches of countries globally, this small sample set from largely the same region was not an accurate representation of the world. As such, the comparative analysis of the research questions may have been quite inaccurate. The scatterplots, which did in fact use anonymised data, would have been much better performed on the full set of country data, or at least a more randomized sample. This would have prevented any potential pattern unique to the overrepresented region from skewing the results.\n",
    "\n",
    "\n",
    "### Suggestions for Further Research\n",
    "\n",
    "It would be interesting to do further research on this data with the full set of data for all countries. However, it would also be interesting to search for other statistics that may exist that might address the issue of land use balance more accurately. It is an area of developing research, as the issues inherent in using land cover or similar measures as a metric are known.\n",
    "\n",
    "[1]: https://stats.oecd.org/Index.aspx?DataSetCode=LAND_COVER \"OECD Land Cover Dataset Notes\"\n",
    "[2]: https://www.frontiersin.org/articles/10.3389/ffgc.2021.626635/full \"Frontiers In Forest and Global Change - Where Might We Find Ecologically Intact Communities?\"\n",
    "[3]: https://www.newscientist.com/article/2169186-a-third-of-protected-nature-zones-are-quietly-being-ruined/ \"The New Scientist - A Third of Protected Nature Zones...\""
   ]
  },
  {
   "cell_type": "markdown",
   "id": "cca151c2",
   "metadata": {},
   "source": [
    "---\n",
    "\n",
    "# Sources\n",
    "\n",
    "### Articles \n",
    "\n",
    "IUCN Red List (2022) *Red List Index*. Available at: https://www.iucnredlist.org/assessment/red-list-index (Accessed: 17 June 2022)\n",
    "\n",
    "BirdLife International (2022) *Terms & Definitions - Red List Index*. Available at: http://datazone.birdlife.org/species/spcrli (Accessed: 17 June 2022)\n",
    "\n",
    "Andrew Plumptre (2021) *Just 3% of Earth’s land ecosystems remain intact – but we can change that*. Available at: https://theconversation.com/just-3-of-earths-land-ecosystems-remain-intact-but-we-can-change-that-158587/ (Accessed: 17 June 2022)\n",
    "\n",
    "Andrew Plumptre et al (2021) *Where Might We Find Ecologically Intact Communities?*. Available at: https://www.frontiersin.org/articles/10.3389/ffgc.2021.626635/full (Accessed: 17 June 2022)\n",
    "\n",
    "Michael Le Page (2018) *Half the planet should be set aside for wildlife – to save ourselves*. Available at: https://www.newscientist.com/article/2179499-half-the-planet-should-be-set-aside-for-wildlife-to-save-ourselves/ (Accessed: 17 June 2022)\n",
    "\n",
    "Andy Coghlan (2018) *A third of ‘protected’ nature zones are quietly being ruined*. Available at: https://www.newscientist.com/article/2169186-a-third-of-protected-nature-zones-are-quietly-being-ruined/ (Accessed: 17 June 2022)\n",
    "\n",
    "Jonathan Baillie and Ya-Ping Zhang (2018) *Space for nature*. Available at: https://www.science.org/doi/10.1126/science.aau1397 (Accessed: 17 June 2022)\n",
    "\n",
    "UNEP WCMC (2014) *Predicting the impact of land-use change on biodiversity*. Available at: https://www.unep-wcmc.org/en/news/predicting-the-impact-of-land-use-change-on-biodiversity (Accessed: 17 June 2022)\n",
    "\n",
    "OECD (2019), Biodiversity: Finance and the Economic and Business Case for Action, *OECD Publishing*, Paris, https://doi.org/10.1787/a3147942-en. \n",
    "\n",
    "\n",
    "### Datasets\n",
    "\n",
    "OECD (2022), Threatened Species. Available at: https://stats.oecd.org/Index.aspx?DataSetCode=WILD_LIFE (Accessed on 17 June 2022) \n",
    " \n",
    "IUCN (2021) The IUCN Red List of Threatened Species. Version 2021-3. Available at: https://www.iucnredlist.org. (Accessed on 17 June 2022)\n",
    "\n",
    "Copernicus/European Space Agency and Université catholique de Louvain Geomatics Climate Change Initiative Land Cover (CCI-LC) (2022) Annual Maps. Available at: https://cds.climate.copernicus.eu/cdsapp#!/dataset/satellite-land-cover (Accessed on 17 June 2022)\n",
    "\n",
    "UNEP-WCMC and IUCN (2021) Protected Planet: The World Database on Protected Areas (WDPA) April 2021, Cambridge, UK: UNEP-WCMC and IUCN. Available at: http://www.protectedplanet.net/. (Accessed on 17 June 2022)"
   ]
  }
 ],
 "metadata": {
  "kernelspec": {
   "display_name": "Python 3 (ipykernel)",
   "language": "python",
   "name": "python3"
  },
  "language_info": {
   "codemirror_mode": {
    "name": "ipython",
    "version": 3
   },
   "file_extension": ".py",
   "mimetype": "text/x-python",
   "name": "python",
   "nbconvert_exporter": "python",
   "pygments_lexer": "ipython3",
   "version": "3.9.18"
  }
 },
 "nbformat": 4,
 "nbformat_minor": 5
}
